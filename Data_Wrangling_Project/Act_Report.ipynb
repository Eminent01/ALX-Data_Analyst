{
  "nbformat": 4,
  "nbformat_minor": 0,
  "metadata": {
    "colab": {
      "name": "Act_Report.ipynb",
      "provenance": []
    },
    "kernelspec": {
      "name": "python3",
      "display_name": "Python 3"
    },
    "language_info": {
      "name": "python"
    }
  },
  "cells": [
    {
      "cell_type": "code",
      "source": [
        "import matplotlib.pyplot as plt\n",
        "import seaborn as sns\n",
        "import pandas as pd"
      ],
      "metadata": {
        "id": "3asG89fBac4Z"
      },
      "execution_count": 3,
      "outputs": []
    },
    {
      "cell_type": "code",
      "execution_count": 4,
      "metadata": {
        "id": "gNOAe5FzX4J1"
      },
      "outputs": [],
      "source": [
        "# load master data frame\n",
        "df_twitter_enhanced_clean = pd.read_csv('/content/twitter_enhanced_cleaned_data.csv')\n"
      ]
    },
    {
      "cell_type": "code",
      "source": [
        "# View the data information\n",
        "df_twitter_enhanced_clean.info()"
      ],
      "metadata": {
        "colab": {
          "base_uri": "https://localhost:8080/"
        },
        "id": "otbv-6BgZ8qD",
        "outputId": "f3938165-3402-439c-8557-0c282edd03cd"
      },
      "execution_count": 5,
      "outputs": [
        {
          "output_type": "stream",
          "name": "stdout",
          "text": [
            "<class 'pandas.core.frame.DataFrame'>\n",
            "RangeIndex: 2057 entries, 0 to 2056\n",
            "Data columns (total 17 columns):\n",
            " #   Column              Non-Null Count  Dtype  \n",
            "---  ------              --------------  -----  \n",
            " 0   tweet_id            2057 non-null   int64  \n",
            " 1   timestamp           2057 non-null   object \n",
            " 2   source              2057 non-null   object \n",
            " 3   text                2057 non-null   object \n",
            " 4   expanded_urls       2057 non-null   object \n",
            " 5   rating_numerator    2057 non-null   float64\n",
            " 6   rating_denominator  2057 non-null   float64\n",
            " 7   name                2057 non-null   object \n",
            " 8   favorites           2057 non-null   int64  \n",
            " 9   retweets            2057 non-null   int64  \n",
            " 10  user_followers      2057 non-null   int64  \n",
            " 11  user_favourites     2057 non-null   int64  \n",
            " 12  jpg_url             2057 non-null   object \n",
            " 13  prediction          1736 non-null   object \n",
            " 14  confidence          2057 non-null   float64\n",
            " 15  life_stage          2057 non-null   object \n",
            " 16  dog_gender          2057 non-null   object \n",
            "dtypes: float64(3), int64(5), object(9)\n",
            "memory usage: 273.3+ KB\n"
          ]
        }
      ]
    },
    {
      "cell_type": "code",
      "source": [
        "# change timestamp to datetime\n",
        "df_twitter_enhanced_clean.timestamp = pd.to_datetime(df_twitter_enhanced_clean.timestamp, errors='coerce')"
      ],
      "metadata": {
        "id": "owFTxOzYZ8nF"
      },
      "execution_count": 6,
      "outputs": []
    },
    {
      "cell_type": "code",
      "source": [
        "df_twitter_enhanced_clean.info()"
      ],
      "metadata": {
        "colab": {
          "base_uri": "https://localhost:8080/"
        },
        "id": "seNF55DjZ8jJ",
        "outputId": "d46fd4d5-b205-4282-a9fb-d25bef44bebb"
      },
      "execution_count": 7,
      "outputs": [
        {
          "output_type": "stream",
          "name": "stdout",
          "text": [
            "<class 'pandas.core.frame.DataFrame'>\n",
            "RangeIndex: 2057 entries, 0 to 2056\n",
            "Data columns (total 17 columns):\n",
            " #   Column              Non-Null Count  Dtype              \n",
            "---  ------              --------------  -----              \n",
            " 0   tweet_id            2057 non-null   int64              \n",
            " 1   timestamp           2057 non-null   datetime64[ns, UTC]\n",
            " 2   source              2057 non-null   object             \n",
            " 3   text                2057 non-null   object             \n",
            " 4   expanded_urls       2057 non-null   object             \n",
            " 5   rating_numerator    2057 non-null   float64            \n",
            " 6   rating_denominator  2057 non-null   float64            \n",
            " 7   name                2057 non-null   object             \n",
            " 8   favorites           2057 non-null   int64              \n",
            " 9   retweets            2057 non-null   int64              \n",
            " 10  user_followers      2057 non-null   int64              \n",
            " 11  user_favourites     2057 non-null   int64              \n",
            " 12  jpg_url             2057 non-null   object             \n",
            " 13  prediction          1736 non-null   object             \n",
            " 14  confidence          2057 non-null   float64            \n",
            " 15  life_stage          2057 non-null   object             \n",
            " 16  dog_gender          2057 non-null   object             \n",
            "dtypes: datetime64[ns, UTC](1), float64(3), int64(5), object(8)\n",
            "memory usage: 273.3+ KB\n"
          ]
        }
      ]
    },
    {
      "cell_type": "code",
      "source": [
        "# Count the dog life_stage\n",
        "count_dogs =df_twitter_enhanced_clean.groupby('life_stage')['tweet_id'].count()\n",
        "count_dogs"
      ],
      "metadata": {
        "colab": {
          "base_uri": "https://localhost:8080/"
        },
        "id": "fIPYJbEYaFB3",
        "outputId": "4a6aa0db-1346-490d-d3b1-ace155436ed8"
      },
      "execution_count": 8,
      "outputs": [
        {
          "output_type": "execute_result",
          "data": {
            "text/plain": [
              "life_stage\n",
              "None       1739\n",
              "doggo        65\n",
              "floofer       8\n",
              "pupper      221\n",
              "puppo        24\n",
              "Name: tweet_id, dtype: int64"
            ]
          },
          "metadata": {},
          "execution_count": 8
        }
      ]
    },
    {
      "cell_type": "code",
      "source": [
        "# Visualize the dog life_stage\n",
        "plt.subplots(figsize=(15, 10))\n",
        "plt.bar([1, 2, 3, 4, 5], count_dogs, tick_label=['None',  'doggo', 'floofer', 'pupper', \n",
        "                                                       'puppo'])\n",
        "plt.title('Most popular dog types')\n",
        "plt.xlabel('Dog type', weight='bold')\n",
        "plt.ylabel('Count', weight='bold')\n",
        "plt.savefig('most_pop_types.png');"
      ],
      "metadata": {
        "colab": {
          "base_uri": "https://localhost:8080/",
          "height": 621
        },
        "id": "38o-oWfkaHyI",
        "outputId": "a2fabf1a-1d5b-4e2f-8f55-6c60a1665bb0"
      },
      "execution_count": 9,
      "outputs": [
        {
          "output_type": "display_data",
          "data": {
            "text/plain": [
              "<Figure size 1080x720 with 1 Axes>"
            ],
            "image/png": "[encoded data removed]"
          },
          "metadata": {
            "needs_background": "light"
          }
        }
      ]
    },
    {
      "cell_type": "code",
      "source": [
        "# Count the dog gender\n",
        "dog_gender =df_twitter_enhanced_clean.groupby('dog_gender')['tweet_id'].count()\n",
        "dog_gender"
      ],
      "metadata": {
        "colab": {
          "base_uri": "https://localhost:8080/"
        },
        "id": "PrPJuMf8aKrv",
        "outputId": "8a72e153-66cd-4a68-f0b6-66ee24809dc7"
      },
      "execution_count": 10,
      "outputs": [
        {
          "output_type": "execute_result",
          "data": {
            "text/plain": [
              "dog_gender\n",
              "None       677\n",
              "female     350\n",
              "male      1030\n",
              "Name: tweet_id, dtype: int64"
            ]
          },
          "metadata": {},
          "execution_count": 10
        }
      ]
    },
    {
      "cell_type": "code",
      "source": [
        "#Visualize the dog gender\n",
        "plt.subplots(figsize=(15, 10))\n",
        "plt.bar([1, 2, 3], dog_gender, tick_label=['None',  'female', 'male'])\n",
        "plt.title('Dog gender count plot')\n",
        "plt.xlabel('Dog gender', weight='bold')\n",
        "plt.ylabel('Count', weight='bold')\n",
        "plt.savefig('most_pop_gender.png');"
      ],
      "metadata": {
        "colab": {
          "base_uri": "https://localhost:8080/",
          "height": 621
        },
        "id": "J14jZY7naNvZ",
        "outputId": "d12462e8-4945-46da-8a1e-67320b3e9ac1"
      },
      "execution_count": 11,
      "outputs": [
        {
          "output_type": "display_data",
          "data": {
            "text/plain": [
              "<Figure size 1080x720 with 1 Axes>"
            ],
            "image/png": "[encoded data removed]"
          },
          "metadata": {
            "needs_background": "light"
          }
        }
      ]
    },
    {
      "cell_type": "code",
      "source": [
        "# Visualize the dod confidence distribution\n",
        "sns.distplot(df_twitter_enhanced_clean['confidence']);"
      ],
      "metadata": {
        "colab": {
          "base_uri": "https://localhost:8080/",
          "height": 336
        },
        "id": "Pcup9QI5aR0v",
        "outputId": "2d908d8e-f682-48a2-8a8b-dbb1fc7921a3"
      },
      "execution_count": 12,
      "outputs": [
        {
          "output_type": "stream",
          "name": "stderr",
          "text": [
            "/usr/local/lib/python3.7/dist-packages/seaborn/distributions.py:2619: FutureWarning: `distplot` is a deprecated function and will be removed in a future version. Please adapt your code to use either `displot` (a figure-level function with similar flexibility) or `histplot` (an axes-level function for histograms).\n",
            "  warnings.warn(msg, FutureWarning)\n"
          ]
        },
        {
          "output_type": "display_data",
          "data": {
            "text/plain": [
              "<Figure size 432x288 with 1 Axes>"
            ],
            "image/png": "[encoded data removed]"
          },
          "metadata": {
            "needs_background": "light"
          }
        }
      ]
    },
    {
      "cell_type": "code",
      "source": [
        "#Count the prediction\n",
        "dogs_prediction =df_twitter_enhanced_clean.groupby('prediction')['tweet_id'].count()\n",
        "dogs_prediction"
      ],
      "metadata": {
        "colab": {
          "base_uri": "https://localhost:8080/"
        },
        "id": "iTfDxgRBaUgO",
        "outputId": "2e7c2fdb-b809-481c-e954-f304a524d2a2"
      },
      "execution_count": 13,
      "outputs": [
        {
          "output_type": "execute_result",
          "data": {
            "text/plain": [
              "prediction\n",
              "Afghan_hound                       4\n",
              "Airedale                          12\n",
              "American_Staffordshire_terrier    15\n",
              "Appenzeller                        2\n",
              "Australian_terrier                 2\n",
              "                                  ..\n",
              "toy_poodle                        51\n",
              "toy_terrier                        3\n",
              "vizsla                            14\n",
              "whippet                           11\n",
              "wire-haired_fox_terrier            2\n",
              "Name: tweet_id, Length: 113, dtype: int64"
            ]
          },
          "metadata": {},
          "execution_count": 13
        }
      ]
    },
    {
      "cell_type": "code",
      "source": [
        "# Since the prediction is an object, convert to integer for easy visualization\n",
        "dogs_prediction.astype(int)"
      ],
      "metadata": {
        "colab": {
          "base_uri": "https://localhost:8080/"
        },
        "id": "H3KYGZUhaXWh",
        "outputId": "be19a4c6-406b-4b58-c873-f9178474cb24"
      },
      "execution_count": 14,
      "outputs": [
        {
          "output_type": "execute_result",
          "data": {
            "text/plain": [
              "prediction\n",
              "Afghan_hound                       4\n",
              "Airedale                          12\n",
              "American_Staffordshire_terrier    15\n",
              "Appenzeller                        2\n",
              "Australian_terrier                 2\n",
              "                                  ..\n",
              "toy_poodle                        51\n",
              "toy_terrier                        3\n",
              "vizsla                            14\n",
              "whippet                           11\n",
              "wire-haired_fox_terrier            2\n",
              "Name: tweet_id, Length: 113, dtype: int64"
            ]
          },
          "metadata": {},
          "execution_count": 14
        }
      ]
    },
    {
      "cell_type": "code",
      "source": [
        "# Visualize the prediction column distribution\n",
        "sns.distplot(dogs_prediction.astype(int));"
      ],
      "metadata": {
        "colab": {
          "base_uri": "https://localhost:8080/",
          "height": 336
        },
        "id": "Y5P2gXaXaary",
        "outputId": "2761e06e-d9af-4be9-dc71-7cc2687c20de"
      },
      "execution_count": 15,
      "outputs": [
        {
          "output_type": "stream",
          "name": "stderr",
          "text": [
            "/usr/local/lib/python3.7/dist-packages/seaborn/distributions.py:2619: FutureWarning: `distplot` is a deprecated function and will be removed in a future version. Please adapt your code to use either `displot` (a figure-level function with similar flexibility) or `histplot` (an axes-level function for histograms).\n",
            "  warnings.warn(msg, FutureWarning)\n"
          ]
        },
        {
          "output_type": "display_data",
          "data": {
            "text/plain": [
              "<Figure size 432x288 with 1 Axes>"
            ],
            "image/png": "[encoded data removed]"
          },
          "metadata": {
            "needs_background": "light"
          }
        }
      ]
    }
  ]
}