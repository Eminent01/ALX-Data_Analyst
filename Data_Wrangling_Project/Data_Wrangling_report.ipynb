{
  "nbformat": 4,
  "nbformat_minor": 0,
  "metadata": {
    "colab": {
      "name": "Data_Wrangling_report.ipynb",
      "provenance": [],
      "collapsed_sections": []
    },
    "kernelspec": {
      "name": "python3",
      "display_name": "Python 3"
    },
    "language_info": {
      "name": "python"
    }
  },
  "cells": [
    {
      "cell_type": "markdown",
      "source": [
        "### Data_wrangling report"
      ],
      "metadata": {
        "id": "EWQ028nCtM24"
      }
    },
    {
      "cell_type": "markdown",
      "source": [
        "In this report, we will describe the effort made during the data wrangling project of Udacity with \"WeRateDogs\" project.\n",
        "\n",
        "\n",
        "The report content is as follows.\n",
        "<ol>\n",
        "<li>Gathering data\n",
        "\n",
        "<li> Assesing Data\n",
        "\n",
        "<li> Cleaning Data\n"
      ],
      "metadata": {
        "id": "1FPBag5btM5f"
      }
    },
    {
      "cell_type": "markdown",
      "source": [
        "###  Gathering Data"
      ],
      "metadata": {
        "id": "zYm2GP2ytM8H"
      }
    },
    {
      "cell_type": "markdown",
      "source": [
        "The data for this project came from 3 different sources.\n",
        "<ol>\n",
        "<li> Twitter Archived Enhanced Data downloaded from Udacity \n",
        "\n",
        "<li>Predictions Data downloaded programmaticaly from the Udacity \n",
        "\n",
        "<li>Twitter data Query from twitter API using Tweepy"
      ],
      "metadata": {
        "id": "UsZlpFZUtNAt"
      }
    },
    {
      "cell_type": "markdown",
      "source": [
        "### Assessing Data"
      ],
      "metadata": {
        "id": "bczt7qbIRvOo"
      }
    },
    {
      "cell_type": "markdown",
      "source": [
        "After the data has been gathered from the 3 different sources, the next thing is to assess the data visually and programatically. After assessing the data (both visually and programmatically) the following quality and tidenes issues were discovered.\n",
        "\n",
        "$\\bullet$Archive\n",
        "<ul>\n",
        "<li>column \"expanded URLs\", has missing values, duplicates and unnecessary links\n",
        "<li>The column with dog names have missing values\n",
        "<li>the columns doggo, floofer, pupper and puppo could be collapsed into a dogtype column.\n",
        "<li> text column includes rating, dog names, IG names and URLs\n",
        "</ul>\n",
        "\n",
        "$\\bullet$Predictions\n",
        "<ul>\n",
        "<li>P1, P2, P3 columns could be merged into single columns.\n",
        "<li>P1_conf, P2_conf, P3_conf columns could also be merged into single columns.\n",
        "</ul>\n",
        "\n",
        "$\\bullet$Json txt\n",
        "<ul>\n",
        "<li>Since it has the same tweet_id column like df_1, then the columns could be merged with the df_1"
      ],
      "metadata": {
        "id": "wfBEtBzORu2j"
      }
    },
    {
      "cell_type": "markdown",
      "source": [
        "### Cleaning\n",
        "Cleaning the data is the next aspect of data wrangling after assesing the data. \n",
        "\n",
        "The following quality and tideness which was discovered during assecing was cleaned."
      ],
      "metadata": {
        "id": "6xg9XPPYRujf"
      }
    },
    {
      "cell_type": "markdown",
      "source": [
        "## Quality Issues\n",
        "#### Archived_enhanced_df\n",
        "<li>Timestamp and retweeted status timestamp should be datetime format and not object/string\n",
        "<li> In_reply_to_status_id, in_reply_to_user_id, retweeted_status_id, retweeted_status_user_id should all be integer and not float.\n",
        "<li> Missing data in most of the columns filled with NaN and None.\n",
        "\n",
        "### predictions_df dataframe\n",
        "<li>p1, p2 and p3 should be cmerged\n",
        "<li>p1_conf, p2_conf and p3_conf columns should be merged\n",
        "<li>p1_dog, p2_dog and p3_dog columns should be merged\n",
        "\n",
        "\n",
        "### Twitter_api_df dataframe\n",
        "\n",
        "<li>datetime should be of datatime datatype instead of string"
      ],
      "metadata": {
        "id": "zCT0jeNCTWqQ"
      }
    },
    {
      "cell_type": "markdown",
      "source": [
        "#### Cleaning done to the above quality issues"
      ],
      "metadata": {
        "id": "Y39GiOtWUx_b"
      }
    },
    {
      "cell_type": "markdown",
      "source": [
        "\n",
        "<ol>\n",
        "<li>Clean the content of source column, make it more readable.\n",
        "\n",
        "<li>Refine p1, p2 and p3 columns and confidence associated by combining.\n",
        "\n",
        "<li>Define new column for life stage of dog by melting the 'doggo', 'floofer', 'pupper' and 'puppo' columns into one column life_stage.\n",
        "\n",
        "<li>Get the correct dog gender from text column by filtering common phrases and assigning a gender. Using 'NaN' if no gender can be inferred from text.\n",
        "\n",
        "<li>Convert all the 'NaN' values in prediction column to 'None' type and 'NaN' in rating_numerator column to 0.\n",
        "\n",
        "<li>Drop all the columns that are no longer relevant to the data.\n",
        "\n",
        "<li>Correct all the wrong datatype by converting to the correct data type\n"
      ],
      "metadata": {
        "id": "82wtdP5PUx80"
      }
    },
    {
      "cell_type": "markdown",
      "source": [
        "### Conclusion\n"
      ],
      "metadata": {
        "id": "WuaqgiN9VxRn"
      }
    },
    {
      "cell_type": "markdown",
      "source": [
        "Data wrangling is very essential for data analytics since real world data are always dirty and untidy.\n",
        "\n",
        "We this report, we have shown how to gather data, assess the data and clean the quality and tideness issue in the data."
      ],
      "metadata": {
        "id": "zQWsyXYlV3Nb"
      }
    }
  ]
}