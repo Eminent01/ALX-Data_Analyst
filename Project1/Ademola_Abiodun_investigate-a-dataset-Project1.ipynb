{
 "cells": [
  {
   "cell_type": "markdown",
   "metadata": {},
   "source": [
    "# Project: Investigate a Dataset (Medical Appointment Data)\n",
    "\n",
    "## Table of Contents\n",
    "<ul>\n",
    "<li><a href=\"#intro\">Introduction</a></li>\n",
    "<li><a href=\"#wrangling\">Data Wrangling</a></li>\n",
    "<li><a href=\"#eda\">Exploratory Data Analysis</a></li>\n",
    "<li><a href=\"#conclusions\">Conclusions</a></li>\n",
    "<li><a href=\"#limitations\">Limitations</a></li>\n",
    "</ul>"
   ]
  },
  {
   "cell_type": "markdown",
   "metadata": {},
   "source": [
    "<a id='intro'></a>\n",
    "## Brief Introduction on the Medical Appointment No Shows data.\n",
    "\n",
    "This dataset for this report consist information from 100k medical appointments in Brazil and is focused on the question of whether or not patients show up for their appointment. A number of characteristics about the patient are included in each row.\n",
    "\n",
    "110,527 medical appointments with its 14 associated variables (characteristics). The most important one if the patient show-up or no-show to the appointment. Variable names will be listed in the data familiarization cells below."
   ]
  },
  {
   "cell_type": "code",
   "execution_count": 1,
   "metadata": {},
   "outputs": [
    {
     "name": "stdout",
     "output_type": "stream",
     "text": [
      "Requirement already satisfied: statsmodels in /opt/anaconda3/envs/saheed/lib/python3.10/site-packages (0.13.2)\n",
      "Requirement already satisfied: scipy>=1.3 in /opt/anaconda3/envs/saheed/lib/python3.10/site-packages (from statsmodels) (1.8.1)\n",
      "Requirement already satisfied: pandas>=0.25 in /opt/anaconda3/envs/saheed/lib/python3.10/site-packages (from statsmodels) (1.4.2)\n",
      "Requirement already satisfied: numpy>=1.17 in /opt/anaconda3/envs/saheed/lib/python3.10/site-packages (from statsmodels) (1.22.3)\n",
      "Requirement already satisfied: packaging>=21.3 in /opt/anaconda3/envs/saheed/lib/python3.10/site-packages (from statsmodels) (21.3)\n",
      "Requirement already satisfied: patsy>=0.5.2 in /opt/anaconda3/envs/saheed/lib/python3.10/site-packages (from statsmodels) (0.5.2)\n",
      "Requirement already satisfied: pyparsing!=3.0.5,>=2.0.2 in /opt/anaconda3/envs/saheed/lib/python3.10/site-packages (from packaging>=21.3->statsmodels) (3.0.9)\n",
      "Requirement already satisfied: python-dateutil>=2.8.1 in /opt/anaconda3/envs/saheed/lib/python3.10/site-packages (from pandas>=0.25->statsmodels) (2.8.2)\n",
      "Requirement already satisfied: pytz>=2020.1 in /opt/anaconda3/envs/saheed/lib/python3.10/site-packages (from pandas>=0.25->statsmodels) (2022.1)\n",
      "Requirement already satisfied: six in /opt/anaconda3/envs/saheed/lib/python3.10/site-packages (from patsy>=0.5.2->statsmodels) (1.16.0)\n"
     ]
    }
   ],
   "source": [
    "!pip install statsmodels"
   ]
  },
  {
   "cell_type": "code",
   "execution_count": 2,
   "metadata": {
    "tags": []
   },
   "outputs": [],
   "source": [
    "#Import required library to use in this project\n",
    "import pandas as pd\n",
    "import numpy as np\n",
    "import matplotlib.pyplot as plt\n",
    "from pandas import Timestamp\n",
    "from statsmodels.graphics.mosaicplot import mosaic\n",
    "import seaborn as sns\n",
    "%matplotlib inline\n",
    "\n",
    "# Remember to include a 'magic word' so that your visualizations are plotted\n",
    "#   inline with the notebook. See this page for more:\n",
    "#   http://ipython.readthedocs.io/en/stable/interactive/magics.html\n"
   ]
  },
  {
   "cell_type": "markdown",
   "metadata": {
    "tags": []
   },
   "source": [
    "### Questions to be answered\n",
    "\n",
    "What factors are important for us to know in order to predict if a patient will show up for their scheduled appointment?"
   ]
  },
  {
   "cell_type": "markdown",
   "metadata": {},
   "source": [
    "\n",
    "### Data Loading\n",
    "\n",
    "In this section of the report, we will load in the data, check for cleanliness, and then trim and clean the dataset for analysis.\n",
    "\n"
   ]
  },
  {
   "cell_type": "code",
   "execution_count": 3,
   "metadata": {
    "tags": []
   },
   "outputs": [
    {
     "data": {
      "text/html": [
       "<div>\n",
       "<style scoped>\n",
       "    .dataframe tbody tr th:only-of-type {\n",
       "        vertical-align: middle;\n",
       "    }\n",
       "\n",
       "    .dataframe tbody tr th {\n",
       "        vertical-align: top;\n",
       "    }\n",
       "\n",
       "    .dataframe thead th {\n",
       "        text-align: right;\n",
       "    }\n",
       "</style>\n",
       "<table border=\"1\" class=\"dataframe\">\n",
       "  <thead>\n",
       "    <tr style=\"text-align: right;\">\n",
       "      <th></th>\n",
       "      <th>PatientId</th>\n",
       "      <th>AppointmentID</th>\n",
       "      <th>Gender</th>\n",
       "      <th>ScheduledDay</th>\n",
       "      <th>AppointmentDay</th>\n",
       "      <th>Age</th>\n",
       "      <th>Neighbourhood</th>\n",
       "      <th>Scholarship</th>\n",
       "      <th>Hipertension</th>\n",
       "      <th>Diabetes</th>\n",
       "      <th>Alcoholism</th>\n",
       "      <th>Handcap</th>\n",
       "      <th>SMS_received</th>\n",
       "      <th>No-show</th>\n",
       "    </tr>\n",
       "  </thead>\n",
       "  <tbody>\n",
       "    <tr>\n",
       "      <th>0</th>\n",
       "      <td>2.987250e+13</td>\n",
       "      <td>5642903</td>\n",
       "      <td>F</td>\n",
       "      <td>2016-04-29T18:38:08Z</td>\n",
       "      <td>2016-04-29T00:00:00Z</td>\n",
       "      <td>62</td>\n",
       "      <td>JARDIM DA PENHA</td>\n",
       "      <td>0</td>\n",
       "      <td>1</td>\n",
       "      <td>0</td>\n",
       "      <td>0</td>\n",
       "      <td>0</td>\n",
       "      <td>0</td>\n",
       "      <td>No</td>\n",
       "    </tr>\n",
       "    <tr>\n",
       "      <th>1</th>\n",
       "      <td>5.589978e+14</td>\n",
       "      <td>5642503</td>\n",
       "      <td>M</td>\n",
       "      <td>2016-04-29T16:08:27Z</td>\n",
       "      <td>2016-04-29T00:00:00Z</td>\n",
       "      <td>56</td>\n",
       "      <td>JARDIM DA PENHA</td>\n",
       "      <td>0</td>\n",
       "      <td>0</td>\n",
       "      <td>0</td>\n",
       "      <td>0</td>\n",
       "      <td>0</td>\n",
       "      <td>0</td>\n",
       "      <td>No</td>\n",
       "    </tr>\n",
       "    <tr>\n",
       "      <th>2</th>\n",
       "      <td>4.262962e+12</td>\n",
       "      <td>5642549</td>\n",
       "      <td>F</td>\n",
       "      <td>2016-04-29T16:19:04Z</td>\n",
       "      <td>2016-04-29T00:00:00Z</td>\n",
       "      <td>62</td>\n",
       "      <td>MATA DA PRAIA</td>\n",
       "      <td>0</td>\n",
       "      <td>0</td>\n",
       "      <td>0</td>\n",
       "      <td>0</td>\n",
       "      <td>0</td>\n",
       "      <td>0</td>\n",
       "      <td>No</td>\n",
       "    </tr>\n",
       "    <tr>\n",
       "      <th>3</th>\n",
       "      <td>8.679512e+11</td>\n",
       "      <td>5642828</td>\n",
       "      <td>F</td>\n",
       "      <td>2016-04-29T17:29:31Z</td>\n",
       "      <td>2016-04-29T00:00:00Z</td>\n",
       "      <td>8</td>\n",
       "      <td>PONTAL DE CAMBURI</td>\n",
       "      <td>0</td>\n",
       "      <td>0</td>\n",
       "      <td>0</td>\n",
       "      <td>0</td>\n",
       "      <td>0</td>\n",
       "      <td>0</td>\n",
       "      <td>No</td>\n",
       "    </tr>\n",
       "    <tr>\n",
       "      <th>4</th>\n",
       "      <td>8.841186e+12</td>\n",
       "      <td>5642494</td>\n",
       "      <td>F</td>\n",
       "      <td>2016-04-29T16:07:23Z</td>\n",
       "      <td>2016-04-29T00:00:00Z</td>\n",
       "      <td>56</td>\n",
       "      <td>JARDIM DA PENHA</td>\n",
       "      <td>0</td>\n",
       "      <td>1</td>\n",
       "      <td>1</td>\n",
       "      <td>0</td>\n",
       "      <td>0</td>\n",
       "      <td>0</td>\n",
       "      <td>No</td>\n",
       "    </tr>\n",
       "  </tbody>\n",
       "</table>\n",
       "</div>"
      ],
      "text/plain": [
       "      PatientId  AppointmentID Gender          ScheduledDay  \\\n",
       "0  2.987250e+13        5642903      F  2016-04-29T18:38:08Z   \n",
       "1  5.589978e+14        5642503      M  2016-04-29T16:08:27Z   \n",
       "2  4.262962e+12        5642549      F  2016-04-29T16:19:04Z   \n",
       "3  8.679512e+11        5642828      F  2016-04-29T17:29:31Z   \n",
       "4  8.841186e+12        5642494      F  2016-04-29T16:07:23Z   \n",
       "\n",
       "         AppointmentDay  Age      Neighbourhood  Scholarship  Hipertension  \\\n",
       "0  2016-04-29T00:00:00Z   62    JARDIM DA PENHA            0             1   \n",
       "1  2016-04-29T00:00:00Z   56    JARDIM DA PENHA            0             0   \n",
       "2  2016-04-29T00:00:00Z   62      MATA DA PRAIA            0             0   \n",
       "3  2016-04-29T00:00:00Z    8  PONTAL DE CAMBURI            0             0   \n",
       "4  2016-04-29T00:00:00Z   56    JARDIM DA PENHA            0             1   \n",
       "\n",
       "   Diabetes  Alcoholism  Handcap  SMS_received No-show  \n",
       "0         0           0        0             0      No  \n",
       "1         0           0        0             0      No  \n",
       "2         0           0        0             0      No  \n",
       "3         0           0        0             0      No  \n",
       "4         1           0        0             0      No  "
      ]
     },
     "execution_count": 3,
     "metadata": {},
     "output_type": "execute_result"
    }
   ],
   "source": [
    "# Load data and print out a few lines.\n",
    "df=pd.read_csv('./KaggleV2-May-2016.csv', index_col= False)\n",
    "df.head(5)"
   ]
  },
  {
   "cell_type": "code",
   "execution_count": 4,
   "metadata": {},
   "outputs": [
    {
     "data": {
      "text/plain": [
       "(110527, 14)"
      ]
     },
     "execution_count": 4,
     "metadata": {},
     "output_type": "execute_result"
    }
   ],
   "source": [
    "#The shape of the data set\n",
    "df.shape"
   ]
  },
  {
   "cell_type": "markdown",
   "metadata": {},
   "source": [
    "The shape of the data is 110527 rows and 14 columns."
   ]
  },
  {
   "cell_type": "code",
   "execution_count": 5,
   "metadata": {},
   "outputs": [
    {
     "data": {
      "text/plain": [
       "Index(['PatientId', 'AppointmentID', 'Gender', 'ScheduledDay',\n",
       "       'AppointmentDay', 'Age', 'Neighbourhood', 'Scholarship', 'Hipertension',\n",
       "       'Diabetes', 'Alcoholism', 'Handcap', 'SMS_received', 'No-show'],\n",
       "      dtype='object')"
      ]
     },
     "execution_count": 5,
     "metadata": {},
     "output_type": "execute_result"
    }
   ],
   "source": [
    "#The column names in the data set\n",
    "df.columns"
   ]
  },
  {
   "cell_type": "markdown",
   "metadata": {},
   "source": [
    "The columns name above are the list of all the 14 variables present in the datasets."
   ]
  },
  {
   "cell_type": "code",
   "execution_count": 6,
   "metadata": {},
   "outputs": [
    {
     "name": "stdout",
     "output_type": "stream",
     "text": [
      "<class 'pandas.core.frame.DataFrame'>\n",
      "RangeIndex: 110527 entries, 0 to 110526\n",
      "Data columns (total 14 columns):\n",
      " #   Column          Non-Null Count   Dtype  \n",
      "---  ------          --------------   -----  \n",
      " 0   PatientId       110527 non-null  float64\n",
      " 1   AppointmentID   110527 non-null  int64  \n",
      " 2   Gender          110527 non-null  object \n",
      " 3   ScheduledDay    110527 non-null  object \n",
      " 4   AppointmentDay  110527 non-null  object \n",
      " 5   Age             110527 non-null  int64  \n",
      " 6   Neighbourhood   110527 non-null  object \n",
      " 7   Scholarship     110527 non-null  int64  \n",
      " 8   Hipertension    110527 non-null  int64  \n",
      " 9   Diabetes        110527 non-null  int64  \n",
      " 10  Alcoholism      110527 non-null  int64  \n",
      " 11  Handcap         110527 non-null  int64  \n",
      " 12  SMS_received    110527 non-null  int64  \n",
      " 13  No-show         110527 non-null  object \n",
      "dtypes: float64(1), int64(8), object(5)\n",
      "memory usage: 11.8+ MB\n"
     ]
    }
   ],
   "source": [
    "#Information of the data type of the columns in the data set\n",
    "df.info()"
   ]
  },
  {
   "cell_type": "markdown",
   "metadata": {},
   "source": [
    "From the information of the data set as printed above, we could observed the column name from PatientID to No-show. \n",
    "Also, we have the non-null count column and the column showing the data type of each of the variables in the dataset."
   ]
  },
  {
   "cell_type": "code",
   "execution_count": 7,
   "metadata": {},
   "outputs": [
    {
     "data": {
      "text/plain": [
       "False    110527\n",
       "dtype: int64"
      ]
     },
     "execution_count": 7,
     "metadata": {},
     "output_type": "execute_result"
    }
   ],
   "source": [
    "# To check if there are any duplicated rows in the dataset\n",
    "df.duplicated().value_counts()"
   ]
  },
  {
   "cell_type": "markdown",
   "metadata": {},
   "source": [
    "The duplicated enquires shows that none of the columns in the dataset has a duplicated rows"
   ]
  },
  {
   "cell_type": "markdown",
   "metadata": {},
   "source": [
    "<a id='wrangling'></a>\n",
    "## Data Wrangling \n",
    "\n",
    " - Below we will correct some of the noticed inconsistencies in the dataset:\n",
    "\n",
    " - PatientId is an Integer and not Float. So, we will convert it into integer.\n",
    "\n",
    " - DataType of ScheduledDay and AppointmentDay will be changed to DateTime.\n",
    " \n",
    " - Typo's in the Column names will also be corrected.\n",
    "\n",
    " - As the AppointmentDay has 00:00:00 in it's TimeStamp. So, we will ignore it.\n",
    "\n",
    " - As we removed the Time from AppointmentDay's TimeStamp we will do a similar thing for ScheduledDay also."
   ]
  },
  {
   "cell_type": "code",
   "execution_count": 8,
   "metadata": {},
   "outputs": [],
   "source": [
    "# Let's convert the PatientId from Float to Integer\n",
    "df['PatientId'] = df['PatientId'].astype('int64')"
   ]
  },
  {
   "cell_type": "code",
   "execution_count": 9,
   "metadata": {},
   "outputs": [],
   "source": [
    "# Convert ScheduledDay and AppointmentDay from 'object' type to 'datetime64'\n",
    "df['ScheduledDay'] = pd.to_datetime(df['ScheduledDay']).dt.date.astype('datetime64[ns]')\n",
    "df['AppointmentDay'] = pd.to_datetime(df['AppointmentDay']).dt.date.astype('datetime64[ns]')"
   ]
  },
  {
   "cell_type": "code",
   "execution_count": 10,
   "metadata": {},
   "outputs": [],
   "source": [
    "# Rename incorrect column names.\n",
    "df = df.rename(columns={'Hipertension': 'Hypertension', 'Handcap': 'Handicap', 'SMS_received': 'SMSReceived', 'No-show': 'NoShow'})"
   ]
  },
  {
   "cell_type": "markdown",
   "metadata": {},
   "source": [
    "#### Let's check to confirm the effectiveness of the correction we make to some of the variables datatype."
   ]
  },
  {
   "cell_type": "code",
   "execution_count": 11,
   "metadata": {},
   "outputs": [
    {
     "name": "stdout",
     "output_type": "stream",
     "text": [
      "<class 'pandas.core.frame.DataFrame'>\n",
      "RangeIndex: 110527 entries, 0 to 110526\n",
      "Data columns (total 14 columns):\n",
      " #   Column          Non-Null Count   Dtype         \n",
      "---  ------          --------------   -----         \n",
      " 0   PatientId       110527 non-null  int64         \n",
      " 1   AppointmentID   110527 non-null  int64         \n",
      " 2   Gender          110527 non-null  object        \n",
      " 3   ScheduledDay    110527 non-null  datetime64[ns]\n",
      " 4   AppointmentDay  110527 non-null  datetime64[ns]\n",
      " 5   Age             110527 non-null  int64         \n",
      " 6   Neighbourhood   110527 non-null  object        \n",
      " 7   Scholarship     110527 non-null  int64         \n",
      " 8   Hypertension    110527 non-null  int64         \n",
      " 9   Diabetes        110527 non-null  int64         \n",
      " 10  Alcoholism      110527 non-null  int64         \n",
      " 11  Handicap        110527 non-null  int64         \n",
      " 12  SMSReceived     110527 non-null  int64         \n",
      " 13  NoShow          110527 non-null  object        \n",
      "dtypes: datetime64[ns](2), int64(9), object(3)\n",
      "memory usage: 11.8+ MB\n"
     ]
    }
   ],
   "source": [
    "df.info()"
   ]
  },
  {
   "cell_type": "code",
   "execution_count": 12,
   "metadata": {},
   "outputs": [
    {
     "data": {
      "text/html": [
       "<div>\n",
       "<style scoped>\n",
       "    .dataframe tbody tr th:only-of-type {\n",
       "        vertical-align: middle;\n",
       "    }\n",
       "\n",
       "    .dataframe tbody tr th {\n",
       "        vertical-align: top;\n",
       "    }\n",
       "\n",
       "    .dataframe thead th {\n",
       "        text-align: right;\n",
       "    }\n",
       "</style>\n",
       "<table border=\"1\" class=\"dataframe\">\n",
       "  <thead>\n",
       "    <tr style=\"text-align: right;\">\n",
       "      <th></th>\n",
       "      <th>PatientId</th>\n",
       "      <th>AppointmentID</th>\n",
       "      <th>Gender</th>\n",
       "      <th>ScheduledDay</th>\n",
       "      <th>AppointmentDay</th>\n",
       "      <th>Age</th>\n",
       "      <th>Neighbourhood</th>\n",
       "      <th>Scholarship</th>\n",
       "      <th>Hypertension</th>\n",
       "      <th>Diabetes</th>\n",
       "      <th>Alcoholism</th>\n",
       "      <th>Handicap</th>\n",
       "      <th>SMSReceived</th>\n",
       "      <th>NoShow</th>\n",
       "    </tr>\n",
       "  </thead>\n",
       "  <tbody>\n",
       "    <tr>\n",
       "      <th>99832</th>\n",
       "      <td>465943158731293</td>\n",
       "      <td>5775010</td>\n",
       "      <td>F</td>\n",
       "      <td>2016-06-06</td>\n",
       "      <td>2016-06-06</td>\n",
       "      <td>-1</td>\n",
       "      <td>ROMÃO</td>\n",
       "      <td>0</td>\n",
       "      <td>0</td>\n",
       "      <td>0</td>\n",
       "      <td>0</td>\n",
       "      <td>0</td>\n",
       "      <td>0</td>\n",
       "      <td>No</td>\n",
       "    </tr>\n",
       "  </tbody>\n",
       "</table>\n",
       "</div>"
      ],
      "text/plain": [
       "             PatientId  AppointmentID Gender ScheduledDay AppointmentDay  Age  \\\n",
       "99832  465943158731293        5775010      F   2016-06-06     2016-06-06   -1   \n",
       "\n",
       "      Neighbourhood  Scholarship  Hypertension  Diabetes  Alcoholism  \\\n",
       "99832         ROMÃO            0             0         0           0   \n",
       "\n",
       "       Handicap  SMSReceived NoShow  \n",
       "99832         0            0     No  "
      ]
     },
     "execution_count": 12,
     "metadata": {},
     "output_type": "execute_result"
    }
   ],
   "source": [
    "#let's change for possible mistake in the age variables\n",
    "df[df['Age']<0]"
   ]
  },
  {
   "cell_type": "markdown",
   "metadata": {},
   "source": [
    "#### Since it is not possible to be aged −1, so we can confidently says ages below zero is a mistake. In this case, we should remove it form the dataset."
   ]
  },
  {
   "cell_type": "code",
   "execution_count": 13,
   "metadata": {},
   "outputs": [],
   "source": [
    "#Removing the anomalous instance\n",
    "df.drop(99832, axis=0, inplace= True)"
   ]
  },
  {
   "cell_type": "markdown",
   "metadata": {},
   "source": [
    "#### From the dataset, let's drop 'PatientId' and 'AppointmentID' from the dataset, we could observed that they are not really given any information. They are just a computer generated digit."
   ]
  },
  {
   "cell_type": "code",
   "execution_count": 14,
   "metadata": {},
   "outputs": [],
   "source": [
    "# Drop 'PatientId' and 'AppointmentID' as they are just some system genrated numbers.\n",
    "# df.drop(['PatientId', 'AppointmentID'], axis=1, inplace=True)"
   ]
  },
  {
   "cell_type": "markdown",
   "metadata": {},
   "source": [
    "#### Let's print the unique values of all the variables (i.e columns) we have in the data set"
   ]
  },
  {
   "cell_type": "code",
   "execution_count": 15,
   "metadata": {},
   "outputs": [
    {
     "name": "stdout",
     "output_type": "stream",
     "text": [
      "Unique Values in 'Gender' => ['F' 'M']\n",
      "Unique Values in 'Scholarship' => [0 1]\n",
      "Unique Values in 'Hypertension' => [1 0]\n",
      "Unique Values in 'Diabetes' => [0 1]\n",
      "Unique Values in 'Alcoholism' => [0 1]\n",
      "Unique Values in 'Handicap' => [0 1 2 3 4]\n",
      "Unique Values in 'SMSReceived' => [0 1]\n"
     ]
    }
   ],
   "source": [
    "# Print Unique Values\n",
    "print(\"Unique Values in 'Gender' => {}\".format(df.Gender.unique()))\n",
    "print(\"Unique Values in 'Scholarship' => {}\".format(df.Scholarship.unique()))\n",
    "print(\"Unique Values in 'Hypertension' => {}\".format(df.Hypertension.unique()))\n",
    "print(\"Unique Values in 'Diabetes' => {}\".format(df.Diabetes.unique()))\n",
    "print(\"Unique Values in 'Alcoholism' => {}\".format(df.Alcoholism.unique()))\n",
    "print(\"Unique Values in 'Handicap' => {}\".format(df.Handicap.unique()))\n",
    "print(\"Unique Values in 'SMSReceived' => {}\".format(df.SMSReceived.unique()))"
   ]
  },
  {
   "cell_type": "markdown",
   "metadata": {},
   "source": [
    "In the dataset the handcap attribute should cointain a boolean value. However, as seen above, this attribute assumes values from 0 to 4 (from the unique value result obtained above). To correct the anomalies, we will map to 1 any value higher than 0.\n"
   ]
  },
  {
   "cell_type": "code",
   "execution_count": 16,
   "metadata": {},
   "outputs": [],
   "source": [
    "#Change the Handicap categories to 0 and 1\n",
    "df['Handicap'] = np.where(df['Handicap']>0, 1,0)"
   ]
  },
  {
   "cell_type": "code",
   "execution_count": 17,
   "metadata": {},
   "outputs": [
    {
     "data": {
      "text/plain": [
       "array([0, 1])"
      ]
     },
     "execution_count": 17,
     "metadata": {},
     "output_type": "execute_result"
    }
   ],
   "source": [
    "#To check the new unique values of Handicap\n",
    "df.Handicap.unique()"
   ]
  },
  {
   "cell_type": "markdown",
   "metadata": {},
   "source": [
    "Also, From the above unique values details we can see that all these columns are categories. So, we will convert those columns to object type from int64 their initial datatype."
   ]
  },
  {
   "cell_type": "code",
   "execution_count": 18,
   "metadata": {},
   "outputs": [],
   "source": [
    "df['Scholarship'] = df['Scholarship'].astype('object')\n",
    "df['Hypertension'] = df['Hypertension'].astype('object')\n",
    "df['Diabetes'] = df['Diabetes'].astype('object')\n",
    "df['Alcoholism'] = df['Alcoholism'].astype('object')\n",
    "df['Handicap'] = df['Handicap'].astype('object')\n",
    "df['SMSReceived'] = df['SMSReceived'].astype('object')"
   ]
  },
  {
   "cell_type": "markdown",
   "metadata": {},
   "source": [
    "#### Datetime data is a very important variable in the dataset, so let's do some engineering to it. "
   ]
  },
  {
   "cell_type": "code",
   "execution_count": 19,
   "metadata": {},
   "outputs": [],
   "source": [
    "## Since both 'AppointmentDay' and 'ScheduledDay' are pandas.Timestamp type, this operation can be done directly:\n",
    "df['WaitingDays'] = df['AppointmentDay'] - df['ScheduledDay']"
   ]
  },
  {
   "cell_type": "code",
   "execution_count": 20,
   "metadata": {},
   "outputs": [
    {
     "data": {
      "text/plain": [
       "0         0 days\n",
       "1         0 days\n",
       "2         0 days\n",
       "3         0 days\n",
       "4         0 days\n",
       "           ...  \n",
       "110522   35 days\n",
       "110523   35 days\n",
       "110524   41 days\n",
       "110525   41 days\n",
       "110526   41 days\n",
       "Name: WaitingDays, Length: 110526, dtype: timedelta64[ns]"
      ]
     },
     "execution_count": 20,
     "metadata": {},
     "output_type": "execute_result"
    }
   ],
   "source": [
    "df['WaitingDays']"
   ]
  },
  {
   "cell_type": "code",
   "execution_count": 21,
   "metadata": {},
   "outputs": [],
   "source": [
    "#Generate a new variable in the dataset\n",
    "def waiting_days(days):\n",
    "    arg = str(days) + ' days'\n",
    "    return pd.Timedelta(arg)"
   ]
  },
  {
   "cell_type": "code",
   "execution_count": 22,
   "metadata": {},
   "outputs": [
    {
     "data": {
      "text/html": [
       "<div>\n",
       "<style scoped>\n",
       "    .dataframe tbody tr th:only-of-type {\n",
       "        vertical-align: middle;\n",
       "    }\n",
       "\n",
       "    .dataframe tbody tr th {\n",
       "        vertical-align: top;\n",
       "    }\n",
       "\n",
       "    .dataframe thead th {\n",
       "        text-align: right;\n",
       "    }\n",
       "</style>\n",
       "<table border=\"1\" class=\"dataframe\">\n",
       "  <thead>\n",
       "    <tr style=\"text-align: right;\">\n",
       "      <th></th>\n",
       "      <th>PatientId</th>\n",
       "      <th>AppointmentID</th>\n",
       "      <th>Gender</th>\n",
       "      <th>ScheduledDay</th>\n",
       "      <th>AppointmentDay</th>\n",
       "      <th>Age</th>\n",
       "      <th>Neighbourhood</th>\n",
       "      <th>Scholarship</th>\n",
       "      <th>Hypertension</th>\n",
       "      <th>Diabetes</th>\n",
       "      <th>Alcoholism</th>\n",
       "      <th>Handicap</th>\n",
       "      <th>SMSReceived</th>\n",
       "      <th>NoShow</th>\n",
       "      <th>WaitingDays</th>\n",
       "    </tr>\n",
       "  </thead>\n",
       "  <tbody>\n",
       "    <tr>\n",
       "      <th>27033</th>\n",
       "      <td>7839272661752</td>\n",
       "      <td>5679978</td>\n",
       "      <td>M</td>\n",
       "      <td>2016-05-10</td>\n",
       "      <td>2016-05-09</td>\n",
       "      <td>38</td>\n",
       "      <td>RESISTÊNCIA</td>\n",
       "      <td>0</td>\n",
       "      <td>0</td>\n",
       "      <td>0</td>\n",
       "      <td>0</td>\n",
       "      <td>1</td>\n",
       "      <td>0</td>\n",
       "      <td>Yes</td>\n",
       "      <td>-1 days</td>\n",
       "    </tr>\n",
       "    <tr>\n",
       "      <th>55226</th>\n",
       "      <td>7896293967868</td>\n",
       "      <td>5715660</td>\n",
       "      <td>F</td>\n",
       "      <td>2016-05-18</td>\n",
       "      <td>2016-05-17</td>\n",
       "      <td>19</td>\n",
       "      <td>SANTO ANTÔNIO</td>\n",
       "      <td>0</td>\n",
       "      <td>0</td>\n",
       "      <td>0</td>\n",
       "      <td>0</td>\n",
       "      <td>1</td>\n",
       "      <td>0</td>\n",
       "      <td>Yes</td>\n",
       "      <td>-1 days</td>\n",
       "    </tr>\n",
       "    <tr>\n",
       "      <th>64175</th>\n",
       "      <td>24252258389979</td>\n",
       "      <td>5664962</td>\n",
       "      <td>F</td>\n",
       "      <td>2016-05-05</td>\n",
       "      <td>2016-05-04</td>\n",
       "      <td>22</td>\n",
       "      <td>CONSOLAÇÃO</td>\n",
       "      <td>0</td>\n",
       "      <td>0</td>\n",
       "      <td>0</td>\n",
       "      <td>0</td>\n",
       "      <td>0</td>\n",
       "      <td>0</td>\n",
       "      <td>Yes</td>\n",
       "      <td>-1 days</td>\n",
       "    </tr>\n",
       "    <tr>\n",
       "      <th>71533</th>\n",
       "      <td>998231581612122</td>\n",
       "      <td>5686628</td>\n",
       "      <td>F</td>\n",
       "      <td>2016-05-11</td>\n",
       "      <td>2016-05-05</td>\n",
       "      <td>81</td>\n",
       "      <td>SANTO ANTÔNIO</td>\n",
       "      <td>0</td>\n",
       "      <td>0</td>\n",
       "      <td>0</td>\n",
       "      <td>0</td>\n",
       "      <td>0</td>\n",
       "      <td>0</td>\n",
       "      <td>Yes</td>\n",
       "      <td>-6 days</td>\n",
       "    </tr>\n",
       "    <tr>\n",
       "      <th>72362</th>\n",
       "      <td>3787481966821</td>\n",
       "      <td>5655637</td>\n",
       "      <td>M</td>\n",
       "      <td>2016-05-04</td>\n",
       "      <td>2016-05-03</td>\n",
       "      <td>7</td>\n",
       "      <td>TABUAZEIRO</td>\n",
       "      <td>0</td>\n",
       "      <td>0</td>\n",
       "      <td>0</td>\n",
       "      <td>0</td>\n",
       "      <td>0</td>\n",
       "      <td>0</td>\n",
       "      <td>Yes</td>\n",
       "      <td>-1 days</td>\n",
       "    </tr>\n",
       "  </tbody>\n",
       "</table>\n",
       "</div>"
      ],
      "text/plain": [
       "             PatientId  AppointmentID Gender ScheduledDay AppointmentDay  Age  \\\n",
       "27033    7839272661752        5679978      M   2016-05-10     2016-05-09   38   \n",
       "55226    7896293967868        5715660      F   2016-05-18     2016-05-17   19   \n",
       "64175   24252258389979        5664962      F   2016-05-05     2016-05-04   22   \n",
       "71533  998231581612122        5686628      F   2016-05-11     2016-05-05   81   \n",
       "72362    3787481966821        5655637      M   2016-05-04     2016-05-03    7   \n",
       "\n",
       "       Neighbourhood Scholarship Hypertension Diabetes Alcoholism Handicap  \\\n",
       "27033    RESISTÊNCIA           0            0        0          0        1   \n",
       "55226  SANTO ANTÔNIO           0            0        0          0        1   \n",
       "64175     CONSOLAÇÃO           0            0        0          0        0   \n",
       "71533  SANTO ANTÔNIO           0            0        0          0        0   \n",
       "72362     TABUAZEIRO           0            0        0          0        0   \n",
       "\n",
       "      SMSReceived NoShow WaitingDays  \n",
       "27033           0    Yes     -1 days  \n",
       "55226           0    Yes     -1 days  \n",
       "64175           0    Yes     -1 days  \n",
       "71533           0    Yes     -6 days  \n",
       "72362           0    Yes     -1 days  "
      ]
     },
     "execution_count": 22,
     "metadata": {},
     "output_type": "execute_result"
    }
   ],
   "source": [
    "## Checking which instances were scheduled after the appointment:\n",
    "df[df['WaitingDays'] < waiting_days(0)]"
   ]
  },
  {
   "cell_type": "code",
   "execution_count": 23,
   "metadata": {},
   "outputs": [],
   "source": [
    "## Recording the inconsistent instances index \n",
    "dropIx = df[df['WaitingDays'] < waiting_days(0)].index\n",
    "## Dropping these instances from the dataset:\n",
    "df.drop(dropIx, inplace=True)"
   ]
  },
  {
   "cell_type": "code",
   "execution_count": 24,
   "metadata": {},
   "outputs": [],
   "source": [
    "#Extract just the day value from the full \"timedelta\" object.\n",
    "df['WaitingDays'] = df.WaitingDays.dt.days  "
   ]
  },
  {
   "cell_type": "code",
   "execution_count": 25,
   "metadata": {},
   "outputs": [],
   "source": [
    "## Grouping by the 'WaitingDays' and 'No_show' values:\n",
    "waitingdays = df.groupby(by=['WaitingDays','NoShow'])"
   ]
  },
  {
   "cell_type": "code",
   "execution_count": 26,
   "metadata": {},
   "outputs": [],
   "source": [
    "#Waitingdays with respect to gender valu counts\n",
    "waitingdays = waitingdays.count()['Gender'].unstack()"
   ]
  },
  {
   "cell_type": "code",
   "execution_count": 27,
   "metadata": {},
   "outputs": [
    {
     "data": {
      "text/html": [
       "<div>\n",
       "<style scoped>\n",
       "    .dataframe tbody tr th:only-of-type {\n",
       "        vertical-align: middle;\n",
       "    }\n",
       "\n",
       "    .dataframe tbody tr th {\n",
       "        vertical-align: top;\n",
       "    }\n",
       "\n",
       "    .dataframe thead th {\n",
       "        text-align: right;\n",
       "    }\n",
       "</style>\n",
       "<table border=\"1\" class=\"dataframe\">\n",
       "  <thead>\n",
       "    <tr style=\"text-align: right;\">\n",
       "      <th>NoShow</th>\n",
       "      <th>No</th>\n",
       "      <th>Yes</th>\n",
       "    </tr>\n",
       "    <tr>\n",
       "      <th>WaitingDays</th>\n",
       "      <th></th>\n",
       "      <th></th>\n",
       "    </tr>\n",
       "  </thead>\n",
       "  <tbody>\n",
       "    <tr>\n",
       "      <th>0</th>\n",
       "      <td>36770.0</td>\n",
       "      <td>1792.0</td>\n",
       "    </tr>\n",
       "    <tr>\n",
       "      <th>1</th>\n",
       "      <td>4100.0</td>\n",
       "      <td>1113.0</td>\n",
       "    </tr>\n",
       "    <tr>\n",
       "      <th>2</th>\n",
       "      <td>5123.0</td>\n",
       "      <td>1602.0</td>\n",
       "    </tr>\n",
       "    <tr>\n",
       "      <th>3</th>\n",
       "      <td>2093.0</td>\n",
       "      <td>644.0</td>\n",
       "    </tr>\n",
       "    <tr>\n",
       "      <th>4</th>\n",
       "      <td>4059.0</td>\n",
       "      <td>1231.0</td>\n",
       "    </tr>\n",
       "    <tr>\n",
       "      <th>...</th>\n",
       "      <td>...</td>\n",
       "      <td>...</td>\n",
       "    </tr>\n",
       "    <tr>\n",
       "      <th>155</th>\n",
       "      <td>4.0</td>\n",
       "      <td>6.0</td>\n",
       "    </tr>\n",
       "    <tr>\n",
       "      <th>162</th>\n",
       "      <td>9.0</td>\n",
       "      <td>2.0</td>\n",
       "    </tr>\n",
       "    <tr>\n",
       "      <th>169</th>\n",
       "      <td>7.0</td>\n",
       "      <td>1.0</td>\n",
       "    </tr>\n",
       "    <tr>\n",
       "      <th>176</th>\n",
       "      <td>10.0</td>\n",
       "      <td>6.0</td>\n",
       "    </tr>\n",
       "    <tr>\n",
       "      <th>179</th>\n",
       "      <td>8.0</td>\n",
       "      <td>2.0</td>\n",
       "    </tr>\n",
       "  </tbody>\n",
       "</table>\n",
       "<p>129 rows × 2 columns</p>\n",
       "</div>"
      ],
      "text/plain": [
       "NoShow            No     Yes\n",
       "WaitingDays                 \n",
       "0            36770.0  1792.0\n",
       "1             4100.0  1113.0\n",
       "2             5123.0  1602.0\n",
       "3             2093.0   644.0\n",
       "4             4059.0  1231.0\n",
       "...              ...     ...\n",
       "155              4.0     6.0\n",
       "162              9.0     2.0\n",
       "169              7.0     1.0\n",
       "176             10.0     6.0\n",
       "179              8.0     2.0\n",
       "\n",
       "[129 rows x 2 columns]"
      ]
     },
     "execution_count": 27,
     "metadata": {},
     "output_type": "execute_result"
    }
   ],
   "source": [
    "##Print the waiting days\n",
    "waitingdays"
   ]
  },
  {
   "cell_type": "code",
   "execution_count": null,
   "metadata": {},
   "outputs": [],
   "source": []
  },
  {
   "cell_type": "code",
   "execution_count": 28,
   "metadata": {},
   "outputs": [],
   "source": [
    "# def min_max_scaling (column) :\n",
    "#     return (column - column.min()) / (column. max() - column.min())\n",
    "\n",
    "# for col in df.columns:\n",
    "#     df[col] = min_max_scaling(df[col])"
   ]
  },
  {
   "cell_type": "code",
   "execution_count": 29,
   "metadata": {},
   "outputs": [],
   "source": [
    "# min_max_scaling(df['Gender'])"
   ]
  },
  {
   "cell_type": "markdown",
   "metadata": {},
   "source": [
    "### Let's carry out some descriptive statistics of dataset"
   ]
  },
  {
   "cell_type": "code",
   "execution_count": 30,
   "metadata": {},
   "outputs": [
    {
     "data": {
      "text/plain": [
       "No     88207\n",
       "Yes    22314\n",
       "Name: NoShow, dtype: int64"
      ]
     },
     "execution_count": 30,
     "metadata": {},
     "output_type": "execute_result"
    }
   ],
   "source": [
    "#Lets check the counts fo NoShow variables\n",
    "df['NoShow'].value_counts()"
   ]
  },
  {
   "cell_type": "markdown",
   "metadata": {},
   "source": [
    "The \"NoShow\" variables shows that 88208 are for No i.e they showed up for their appointments while 22319 are for Yes, i.e they did not show up for their sheduled appointments."
   ]
  },
  {
   "cell_type": "code",
   "execution_count": 31,
   "metadata": {},
   "outputs": [
    {
     "data": {
      "text/plain": [
       "F    71836\n",
       "M    38685\n",
       "Name: Gender, dtype: int64"
      ]
     },
     "execution_count": 31,
     "metadata": {},
     "output_type": "execute_result"
    }
   ],
   "source": [
    "## Counting gender classes\n",
    "gender_Count=df.Gender.value_counts()\n",
    "gender_Count"
   ]
  },
  {
   "cell_type": "markdown",
   "metadata": {},
   "source": [
    "The above counts shows the number of Male and Female in the dataset."
   ]
  },
  {
   "cell_type": "code",
   "execution_count": 32,
   "metadata": {},
   "outputs": [
    {
     "data": {
      "image/png": "[encoded data removed]",
      "text/plain": [
       "<Figure size 432x288 with 1 Axes>"
      ]
     },
     "metadata": {
      "needs_background": "light"
     },
     "output_type": "display_data"
    }
   ],
   "source": [
    "#The plotof the gender conuts in the dataset\n",
    "ax = sns.countplot(x=df.Gender, data=df)\n",
    "ax.set_title(\"Gender of the Patients\")\n",
    "plt.show()"
   ]
  },
  {
   "cell_type": "code",
   "execution_count": 33,
   "metadata": {},
   "outputs": [
    {
     "data": {
      "text/plain": [
       "NoShow  Gender\n",
       "No      F         57245\n",
       "        M         30962\n",
       "Yes     F         14591\n",
       "        M          7723\n",
       "Name: Gender, dtype: int64"
      ]
     },
     "execution_count": 33,
     "metadata": {},
     "output_type": "execute_result"
    }
   ],
   "source": [
    "#No show counts according to gender\n",
    "gender_noshow=df.groupby('NoShow')['Gender'].value_counts()\n",
    "gender_noshow"
   ]
  },
  {
   "cell_type": "code",
   "execution_count": 34,
   "metadata": {},
   "outputs": [
    {
     "data": {
      "text/plain": [
       "count    110521.000000\n",
       "mean         37.089386\n",
       "std          23.109885\n",
       "min           0.000000\n",
       "25%          18.000000\n",
       "50%          37.000000\n",
       "75%          55.000000\n",
       "max         115.000000\n",
       "Name: Age, dtype: float64"
      ]
     },
     "execution_count": 34,
     "metadata": {},
     "output_type": "execute_result"
    }
   ],
   "source": [
    "# General summary statistics of the age variable\n",
    "df['Age'].describe()"
   ]
  },
  {
   "cell_type": "code",
   "execution_count": 35,
   "metadata": {},
   "outputs": [],
   "source": [
    "# df['Age'] =[lambda x : (x - x.mean())/ x.std()]"
   ]
  },
  {
   "cell_type": "code",
   "execution_count": 36,
   "metadata": {},
   "outputs": [
    {
     "data": {
      "text/plain": [
       "NoShow\n",
       "No     37.790504\n",
       "Yes    34.317872\n",
       "Name: Age, dtype: float64"
      ]
     },
     "execution_count": 36,
     "metadata": {},
     "output_type": "execute_result"
    }
   ],
   "source": [
    "#Average age based on who honor the appointment and who does not. \n",
    "df.groupby('NoShow')['Age'].mean()"
   ]
  },
  {
   "cell_type": "markdown",
   "metadata": {},
   "source": [
    "<a id='eda'></a>\n",
    "### Exploratory Data Analysis\n",
    "Once the data were trimmed and cleaned, we will move on to explore the questions posed at the beginning of the project, \"What factors are important for us to know in order to predict if a patient will show up for their scheduled appointment?\""
   ]
  },
  {
   "cell_type": "code",
   "execution_count": 37,
   "metadata": {},
   "outputs": [
    {
     "data": {
      "text/plain": [
       "62298"
      ]
     },
     "execution_count": 37,
     "metadata": {},
     "output_type": "execute_result"
    }
   ],
   "source": [
    "# Check the total number of unique patients\n",
    "df.PatientId.nunique()"
   ]
  },
  {
   "cell_type": "markdown",
   "metadata": {},
   "source": [
    "<li>Number of patients in our data set are 62,298 patient.</li>\n",
    "<li>PatientId variable has no effect on predicting the probability of Show/No Show of the patient since they are just computer generated digits.</li>"
   ]
  },
  {
   "cell_type": "code",
   "execution_count": 38,
   "metadata": {},
   "outputs": [
    {
     "data": {
      "text/plain": [
       "110521"
      ]
     },
     "execution_count": 38,
     "metadata": {},
     "output_type": "execute_result"
    }
   ],
   "source": [
    "# Check the total number of unique Appointments\n",
    "df.AppointmentID.nunique()"
   ]
  },
  {
   "cell_type": "markdown",
   "metadata": {},
   "source": [
    "<li>AppointmentID variable is consistent</li>\n",
    "<li>AppointmentID variable can also be said to have no effect on predicting the probability of Show/No Show of the patient, since it is also a computer generated digits.</li>"
   ]
  },
  {
   "cell_type": "code",
   "execution_count": 39,
   "metadata": {},
   "outputs": [
    {
     "data": {
      "image/png": "[encoded data removed]",
      "text/plain": [
       "<Figure size 432x288 with 1 Axes>"
      ]
     },
     "metadata": {
      "needs_background": "light"
     },
     "output_type": "display_data"
    }
   ],
   "source": [
    "#Bar Plot\n",
    "ax = sns.countplot(x=df.NoShow, data=df)\n",
    "ax.set_title(\"Show/NoShow Patients\")\n",
    "plt.show()"
   ]
  },
  {
   "cell_type": "markdown",
   "metadata": {},
   "source": [
    "From the above visualization of the \"NoShow\" statistics, it was identified that data are unbalanced, it will not be taken into account in the following analysis as it is beyond the scope of this project work."
   ]
  },
  {
   "cell_type": "code",
   "execution_count": 40,
   "metadata": {},
   "outputs": [
    {
     "data": {
      "text/plain": [
       "F    71836\n",
       "M    38685\n",
       "Name: Gender, dtype: int64"
      ]
     },
     "execution_count": 40,
     "metadata": {},
     "output_type": "execute_result"
    }
   ],
   "source": [
    "# Check if numbers of Females and males are balanced \n",
    "df['Gender'].value_counts()"
   ]
  },
  {
   "cell_type": "code",
   "execution_count": 41,
   "metadata": {},
   "outputs": [
    {
     "data": {
      "image/png": "[encoded data removed]",
      "text/plain": [
       "<Figure size 432x288 with 1 Axes>"
      ]
     },
     "metadata": {
      "needs_background": "light"
     },
     "output_type": "display_data"
    }
   ],
   "source": [
    "#Bar Plot\n",
    "ax = sns.countplot(x=df.Gender, hue=df.NoShow, data=df)\n",
    "ax.set_title(\"Show/NoShow for Females and Males\")\n",
    "x_ticks_labels=['Female', 'Male']\n",
    "ax.set_xticklabels(x_ticks_labels)\n",
    "plt.show()"
   ]
  },
  {
   "cell_type": "markdown",
   "metadata": {},
   "source": [
    "<li>Gender variable is unbalanced, much more Female patients than Male patients.\n",
    "<li>From the plot above, both Females and Males have the same proportion for not showing up.\n",
    "So, Gender is not significant patameter for the probability of Show/No Show."
   ]
  },
  {
   "cell_type": "code",
   "execution_count": 42,
   "metadata": {},
   "outputs": [
    {
     "data": {
      "text/plain": [
       "count    110521.000000\n",
       "mean         37.089386\n",
       "std          23.109885\n",
       "min           0.000000\n",
       "25%          18.000000\n",
       "50%          37.000000\n",
       "75%          55.000000\n",
       "max         115.000000\n",
       "Name: Age, dtype: float64"
      ]
     },
     "execution_count": 42,
     "metadata": {},
     "output_type": "execute_result"
    }
   ],
   "source": [
    "# Check Age (min, max, average and standard deviation)  \n",
    "df['Age'].describe()"
   ]
  },
  {
   "cell_type": "markdown",
   "metadata": {},
   "source": [
    "<li> Averrage Age is 37 years old"
   ]
  },
  {
   "cell_type": "code",
   "execution_count": 43,
   "metadata": {},
   "outputs": [
    {
     "data": {
      "image/png": "[encoded data removed]",
      "text/plain": [
       "<Figure size 432x288 with 2 Axes>"
      ]
     },
     "metadata": {
      "needs_background": "light"
     },
     "output_type": "display_data"
    }
   ],
   "source": [
    "#Plotting of the age distribution of patients in the NoShow data.\n",
    "fig, axes = plt.subplots(1,2)\n",
    "df.Age[df[\"NoShow\"] ==\"Yes\"].hist(label='Yes', ax =axes[0])\n",
    "df.Age[df[\"NoShow\"] ==\"No\"].hist(label='No', ax = axes[1])\n",
    "\n",
    "axes[0].set_title(\"NoShow patients Age\")\n",
    "axes[1].set_title(\"Show patients Age\")\n",
    "\n",
    "fig.text(0.5, 0.02, 'Age', ha='center');\n",
    "fig.text(0.03, 0.5, 'Number of Patients', va='center', rotation ='vertical');"
   ]
  },
  {
   "cell_type": "markdown",
   "metadata": {},
   "source": [
    "<li>From the distribution plot, we can see that Age is unbalanced i.e skewed for both the NoShow Patients and Show patients. As we can see we have much more patient from 0 to 60 than from 70 and above.\n",
    "So, for our analysis we will normalize the numbers."
   ]
  },
  {
   "cell_type": "code",
   "execution_count": 44,
   "metadata": {},
   "outputs": [
    {
     "data": {
      "text/plain": [
       "103"
      ]
     },
     "execution_count": 44,
     "metadata": {},
     "output_type": "execute_result"
    }
   ],
   "source": [
    "# Check the number of unique Age values\n",
    "df['Age'].nunique()"
   ]
  },
  {
   "cell_type": "markdown",
   "metadata": {},
   "source": [
    "since there is 103 unique value for Age and for better insights it's better to convert it into Age Groups"
   ]
  },
  {
   "cell_type": "code",
   "execution_count": 45,
   "metadata": {},
   "outputs": [],
   "source": [
    "# Convert Age into Age Groups \n",
    "bins = [0, 13, 19, 60, 116]\n",
    "labels = ['Child','Teen','Adult','Senior']\n",
    "df['Age_Group'] = pd.cut(df['Age'], bins=bins, labels=labels, include_lowest= False, right= False)"
   ]
  },
  {
   "cell_type": "code",
   "execution_count": 46,
   "metadata": {},
   "outputs": [
    {
     "data": {
      "text/plain": [
       "0    99660\n",
       "1    10861\n",
       "Name: Scholarship, dtype: int64"
      ]
     },
     "execution_count": 46,
     "metadata": {},
     "output_type": "execute_result"
    }
   ],
   "source": [
    "# Check appointement made by Rich people (0) and Poor people (1)\n",
    "df['Scholarship'].value_counts()"
   ]
  },
  {
   "cell_type": "code",
   "execution_count": 47,
   "metadata": {},
   "outputs": [
    {
     "data": {
      "image/png": "[encoded data removed]",
      "text/plain": [
       "<Figure size 432x288 with 1 Axes>"
      ]
     },
     "metadata": {
      "needs_background": "light"
     },
     "output_type": "display_data"
    }
   ],
   "source": [
    "#Bar Plot\n",
    "ax = sns.countplot(x=df.Scholarship, hue=df.NoShow, data=df)\n",
    "ax.set_title(\"Show/NoShow for Scholarship\")\n",
    "x_ticks_labels=['No Scholarship', 'Scholarship']\n",
    "ax.set_xticklabels(x_ticks_labels)\n",
    "plt.show()"
   ]
  },
  {
   "cell_type": "markdown",
   "metadata": {},
   "source": [
    "<li>About 90% of the people made an appointment are without a Scholarship which means they are not poor.\n",
    "\n",
    "<li>The probability of No Show increase for poor people.\n",
    "<li>The Scholarship variable is significant for the probabilty of Show/No Show."
   ]
  },
  {
   "cell_type": "code",
   "execution_count": 48,
   "metadata": {},
   "outputs": [
    {
     "data": {
      "image/png": "[encoded data removed]",
      "text/plain": [
       "<Figure size 432x288 with 1 Axes>"
      ]
     },
     "metadata": {
      "needs_background": "light"
     },
     "output_type": "display_data"
    }
   ],
   "source": [
    "#Bar Plot\n",
    "ax = sns.countplot(x=df.Hypertension, hue=df.NoShow, data=df)\n",
    "ax.set_title(\"Show/NoShow for Hypertension\")\n",
    "x_ticks_labels=['No Hypertension', 'Hypertension']\n",
    "ax.set_xticklabels(x_ticks_labels)\n",
    "plt.show()"
   ]
  },
  {
   "cell_type": "markdown",
   "metadata": {},
   "source": [
    "<li>The probability of No Show decrease for patient with Hipertension.\n",
    "<li>The Hipertension variable is significant for the probabilty of Show/No Show."
   ]
  },
  {
   "cell_type": "code",
   "execution_count": 49,
   "metadata": {},
   "outputs": [
    {
     "data": {
      "image/png": "[encoded data removed]",
      "text/plain": [
       "<Figure size 432x288 with 1 Axes>"
      ]
     },
     "metadata": {
      "needs_background": "light"
     },
     "output_type": "display_data"
    }
   ],
   "source": [
    "#Bar Plot\n",
    "ax = sns.countplot(x=df.Diabetes, hue=df.NoShow, data=df)\n",
    "ax.set_title(\"Show/NoShow for Diabetes\")\n",
    "x_ticks_labels=['No Diabetes', 'Diabetes']\n",
    "ax.set_xticklabels(x_ticks_labels)\n",
    "plt.show()"
   ]
  },
  {
   "cell_type": "markdown",
   "metadata": {},
   "source": [
    "<li>The probability of No Show decrease for patient with Diabetes.\n",
    "<li>The Diabetes variable is significant for the probabilty of Show/No Show."
   ]
  },
  {
   "cell_type": "code",
   "execution_count": 50,
   "metadata": {},
   "outputs": [
    {
     "data": {
      "image/png": "[encoded data removed]",
      "text/plain": [
       "<Figure size 432x288 with 1 Axes>"
      ]
     },
     "metadata": {
      "needs_background": "light"
     },
     "output_type": "display_data"
    }
   ],
   "source": [
    "#Bar Plot\n",
    "ax = sns.countplot(x=df.Alcoholism, hue=df.NoShow, data=df)\n",
    "ax.set_title(\"Show/NoShow for Alcoholism\")\n",
    "x_ticks_labels=['No Alcoholism', 'Alcoholism']\n",
    "ax.set_xticklabels(x_ticks_labels)\n",
    "plt.show()"
   ]
  },
  {
   "cell_type": "markdown",
   "metadata": {},
   "source": [
    "<li>Alcoholism patients has decreasing probability of Show/No compare to None Alcoholism patients .\n",
    "<li>The Alcoholism variable is significant for the probabilty of Show/No Show."
   ]
  },
  {
   "cell_type": "code",
   "execution_count": 51,
   "metadata": {},
   "outputs": [
    {
     "data": {
      "image/png": "[encoded data removed]",
      "text/plain": [
       "<Figure size 432x288 with 1 Axes>"
      ]
     },
     "metadata": {
      "needs_background": "light"
     },
     "output_type": "display_data"
    }
   ],
   "source": [
    "#Bar Plot\n",
    "ax = sns.countplot(x=df.Handicap, hue=df.NoShow, data=df)\n",
    "ax.set_title(\"Show/NoShow for Handicap\")\n",
    "plt.show()"
   ]
  },
  {
   "cell_type": "markdown",
   "metadata": {},
   "source": [
    "<li>Patients with handicap condition are most likely to show up.\n",
    "<li>Patients with no handicap condition are most likely to No Show.\n",
    "<li>Number of Handcap condition in a patient is a significant for the probabilty of Show/No Show"
   ]
  },
  {
   "cell_type": "code",
   "execution_count": 52,
   "metadata": {},
   "outputs": [
    {
     "data": {
      "image/png": "[encoded data removed]",
      "text/plain": [
       "<Figure size 432x288 with 1 Axes>"
      ]
     },
     "metadata": {
      "needs_background": "light"
     },
     "output_type": "display_data"
    }
   ],
   "source": [
    "#Bar Plot\n",
    "ax = sns.countplot(x=df.SMSReceived, hue=df.NoShow, data=df)\n",
    "ax.set_title(\"Show/NoShow for SMSReceived\")\n",
    "x_ticks_labels=['No SMSReceived', 'SMSReceived']\n",
    "ax.set_xticklabels(x_ticks_labels)\n",
    "plt.show()"
   ]
  },
  {
   "cell_type": "markdown",
   "metadata": {},
   "source": [
    "<li>Since most of No Show patients did receive an SMS, SMS_Received has no effect on the probabilty of Show/No Show\n",
    "<li>SMS_Received Variable is not significant for the probabilty of Show/No Show"
   ]
  },
  {
   "cell_type": "code",
   "execution_count": 53,
   "metadata": {},
   "outputs": [
    {
     "data": {
      "image/png": "[encoded data removed]",
      "text/plain": [
       "<Figure size 576x144 with 1 Axes>"
      ]
     },
     "metadata": {
      "needs_background": "light"
     },
     "output_type": "display_data"
    }
   ],
   "source": [
    "#boxplot for the Age variable to check it's distribution.\n",
    "plt.figure(figsize=(8,2))\n",
    "sns.boxplot(x=df.Age);"
   ]
  },
  {
   "cell_type": "markdown",
   "metadata": {},
   "source": [
    "From the above BoxPlot we can see that the Mean Age is around approxiamtely 37years. The BoxPlot shows few datapoints as outliers."
   ]
  },
  {
   "cell_type": "code",
   "execution_count": 54,
   "metadata": {},
   "outputs": [
    {
     "data": {
      "image/png": "[encoded data removed]",
      "text/plain": [
       "<Figure size 576x144 with 1 Axes>"
      ]
     },
     "metadata": {
      "needs_background": "light"
     },
     "output_type": "display_data"
    }
   ],
   "source": [
    "#boxplot for the waiting time variable to check it's distribution.\n",
    "plt.figure(figsize=(8,2))\n",
    "sns.boxplot(x=df.WaitingDays);"
   ]
  },
  {
   "cell_type": "markdown",
   "metadata": {},
   "source": [
    "From the above BoxPlot we can see that the BoxPlot shows so many datapoints as outliers."
   ]
  },
  {
   "cell_type": "code",
   "execution_count": 55,
   "metadata": {},
   "outputs": [
    {
     "data": {
      "image/png": "[encoded data removed]",
      "text/plain": [
       "<Figure size 432x288 with 3 Axes>"
      ]
     },
     "metadata": {
      "needs_background": "light"
     },
     "output_type": "display_data"
    }
   ],
   "source": [
    "mosaic(df, ['Gender', 'NoShow'], title='Gender distrubution of the appointment')\n",
    "plt.show()"
   ]
  },
  {
   "cell_type": "markdown",
   "metadata": {},
   "source": [
    "From the mosaic plot, we can visualize that the number of No show to show with respect to the gender are equal. With this we can confidently says that the variable gender will not be useful in the further analysis."
   ]
  },
  {
   "cell_type": "code",
   "execution_count": 56,
   "metadata": {},
   "outputs": [],
   "source": [
    "#Convert the object variables to categorical for numerical computation\n",
    "df[\"Gender\"] = df[\"Gender\"].astype('category').cat.codes\n",
    "df[\"Scholarship\"] = df[\"Scholarship\"].astype('category').cat.codes\n",
    "df[\"Hypertension\"] = df[\"Hypertension\"].astype('category').cat.codes\n",
    "df[\"Diabetes\"] = df[\"Diabetes\"].astype('category').cat.codes\n",
    "df[\"Alcoholism\"] = df[\"Alcoholism\"].astype('category').cat.codes\n",
    "df[\"Handicap\"] = df[\"Handicap\"].astype('category').cat.codes\n",
    "df[\"SMSReceived\"] = df[\"SMSReceived\"].astype('category').cat.codes\n",
    "df[\"NoShow\"] = df[\"NoShow\"].astype('category').cat.codes"
   ]
  },
  {
   "cell_type": "code",
   "execution_count": 57,
   "metadata": {},
   "outputs": [
    {
     "data": {
      "text/html": [
       "<div>\n",
       "<style scoped>\n",
       "    .dataframe tbody tr th:only-of-type {\n",
       "        vertical-align: middle;\n",
       "    }\n",
       "\n",
       "    .dataframe tbody tr th {\n",
       "        vertical-align: top;\n",
       "    }\n",
       "\n",
       "    .dataframe thead th {\n",
       "        text-align: right;\n",
       "    }\n",
       "</style>\n",
       "<table border=\"1\" class=\"dataframe\">\n",
       "  <thead>\n",
       "    <tr style=\"text-align: right;\">\n",
       "      <th></th>\n",
       "      <th>PatientId</th>\n",
       "      <th>AppointmentID</th>\n",
       "      <th>Gender</th>\n",
       "      <th>ScheduledDay</th>\n",
       "      <th>AppointmentDay</th>\n",
       "      <th>Age</th>\n",
       "      <th>Neighbourhood</th>\n",
       "      <th>Scholarship</th>\n",
       "      <th>Hypertension</th>\n",
       "      <th>Diabetes</th>\n",
       "      <th>Alcoholism</th>\n",
       "      <th>Handicap</th>\n",
       "      <th>SMSReceived</th>\n",
       "      <th>NoShow</th>\n",
       "      <th>WaitingDays</th>\n",
       "      <th>Age_Group</th>\n",
       "    </tr>\n",
       "  </thead>\n",
       "  <tbody>\n",
       "    <tr>\n",
       "      <th>0</th>\n",
       "      <td>29872499824296</td>\n",
       "      <td>5642903</td>\n",
       "      <td>0</td>\n",
       "      <td>2016-04-29</td>\n",
       "      <td>2016-04-29</td>\n",
       "      <td>62</td>\n",
       "      <td>JARDIM DA PENHA</td>\n",
       "      <td>0</td>\n",
       "      <td>1</td>\n",
       "      <td>0</td>\n",
       "      <td>0</td>\n",
       "      <td>0</td>\n",
       "      <td>0</td>\n",
       "      <td>0</td>\n",
       "      <td>0</td>\n",
       "      <td>Senior</td>\n",
       "    </tr>\n",
       "    <tr>\n",
       "      <th>1</th>\n",
       "      <td>558997776694438</td>\n",
       "      <td>5642503</td>\n",
       "      <td>1</td>\n",
       "      <td>2016-04-29</td>\n",
       "      <td>2016-04-29</td>\n",
       "      <td>56</td>\n",
       "      <td>JARDIM DA PENHA</td>\n",
       "      <td>0</td>\n",
       "      <td>0</td>\n",
       "      <td>0</td>\n",
       "      <td>0</td>\n",
       "      <td>0</td>\n",
       "      <td>0</td>\n",
       "      <td>0</td>\n",
       "      <td>0</td>\n",
       "      <td>Adult</td>\n",
       "    </tr>\n",
       "    <tr>\n",
       "      <th>2</th>\n",
       "      <td>4262962299951</td>\n",
       "      <td>5642549</td>\n",
       "      <td>0</td>\n",
       "      <td>2016-04-29</td>\n",
       "      <td>2016-04-29</td>\n",
       "      <td>62</td>\n",
       "      <td>MATA DA PRAIA</td>\n",
       "      <td>0</td>\n",
       "      <td>0</td>\n",
       "      <td>0</td>\n",
       "      <td>0</td>\n",
       "      <td>0</td>\n",
       "      <td>0</td>\n",
       "      <td>0</td>\n",
       "      <td>0</td>\n",
       "      <td>Senior</td>\n",
       "    </tr>\n",
       "    <tr>\n",
       "      <th>3</th>\n",
       "      <td>867951213174</td>\n",
       "      <td>5642828</td>\n",
       "      <td>0</td>\n",
       "      <td>2016-04-29</td>\n",
       "      <td>2016-04-29</td>\n",
       "      <td>8</td>\n",
       "      <td>PONTAL DE CAMBURI</td>\n",
       "      <td>0</td>\n",
       "      <td>0</td>\n",
       "      <td>0</td>\n",
       "      <td>0</td>\n",
       "      <td>0</td>\n",
       "      <td>0</td>\n",
       "      <td>0</td>\n",
       "      <td>0</td>\n",
       "      <td>Child</td>\n",
       "    </tr>\n",
       "    <tr>\n",
       "      <th>4</th>\n",
       "      <td>8841186448183</td>\n",
       "      <td>5642494</td>\n",
       "      <td>0</td>\n",
       "      <td>2016-04-29</td>\n",
       "      <td>2016-04-29</td>\n",
       "      <td>56</td>\n",
       "      <td>JARDIM DA PENHA</td>\n",
       "      <td>0</td>\n",
       "      <td>1</td>\n",
       "      <td>1</td>\n",
       "      <td>0</td>\n",
       "      <td>0</td>\n",
       "      <td>0</td>\n",
       "      <td>0</td>\n",
       "      <td>0</td>\n",
       "      <td>Adult</td>\n",
       "    </tr>\n",
       "  </tbody>\n",
       "</table>\n",
       "</div>"
      ],
      "text/plain": [
       "         PatientId  AppointmentID  Gender ScheduledDay AppointmentDay  Age  \\\n",
       "0   29872499824296        5642903       0   2016-04-29     2016-04-29   62   \n",
       "1  558997776694438        5642503       1   2016-04-29     2016-04-29   56   \n",
       "2    4262962299951        5642549       0   2016-04-29     2016-04-29   62   \n",
       "3     867951213174        5642828       0   2016-04-29     2016-04-29    8   \n",
       "4    8841186448183        5642494       0   2016-04-29     2016-04-29   56   \n",
       "\n",
       "       Neighbourhood  Scholarship  Hypertension  Diabetes  Alcoholism  \\\n",
       "0    JARDIM DA PENHA            0             1         0           0   \n",
       "1    JARDIM DA PENHA            0             0         0           0   \n",
       "2      MATA DA PRAIA            0             0         0           0   \n",
       "3  PONTAL DE CAMBURI            0             0         0           0   \n",
       "4    JARDIM DA PENHA            0             1         1           0   \n",
       "\n",
       "   Handicap  SMSReceived  NoShow  WaitingDays Age_Group  \n",
       "0         0            0       0            0    Senior  \n",
       "1         0            0       0            0     Adult  \n",
       "2         0            0       0            0    Senior  \n",
       "3         0            0       0            0     Child  \n",
       "4         0            0       0            0     Adult  "
      ]
     },
     "execution_count": 57,
     "metadata": {},
     "output_type": "execute_result"
    }
   ],
   "source": [
    "df.head(5)"
   ]
  },
  {
   "cell_type": "code",
   "execution_count": 63,
   "metadata": {},
   "outputs": [],
   "source": [
    "##Extract the categorical variables and save as another dataframe\n",
    "df_2=df[['Gender','Age', 'Scholarship', 'Hypertension', 'Diabetes', 'Alcoholism', 'Handicap', 'SMSReceived','WaitingDays','NoShow']]"
   ]
  },
  {
   "cell_type": "code",
   "execution_count": 64,
   "metadata": {},
   "outputs": [
    {
     "data": {
      "text/html": [
       "<div>\n",
       "<style scoped>\n",
       "    .dataframe tbody tr th:only-of-type {\n",
       "        vertical-align: middle;\n",
       "    }\n",
       "\n",
       "    .dataframe tbody tr th {\n",
       "        vertical-align: top;\n",
       "    }\n",
       "\n",
       "    .dataframe thead th {\n",
       "        text-align: right;\n",
       "    }\n",
       "</style>\n",
       "<table border=\"1\" class=\"dataframe\">\n",
       "  <thead>\n",
       "    <tr style=\"text-align: right;\">\n",
       "      <th></th>\n",
       "      <th>Gender</th>\n",
       "      <th>Age</th>\n",
       "      <th>Scholarship</th>\n",
       "      <th>Hypertension</th>\n",
       "      <th>Diabetes</th>\n",
       "      <th>Alcoholism</th>\n",
       "      <th>Handicap</th>\n",
       "      <th>SMSReceived</th>\n",
       "      <th>WaitingDays</th>\n",
       "      <th>NoShow</th>\n",
       "    </tr>\n",
       "  </thead>\n",
       "  <tbody>\n",
       "    <tr>\n",
       "      <th>Gender</th>\n",
       "      <td>1.000000</td>\n",
       "      <td>-0.106439</td>\n",
       "      <td>-0.114297</td>\n",
       "      <td>-0.055721</td>\n",
       "      <td>-0.032555</td>\n",
       "      <td>0.106170</td>\n",
       "      <td>0.022391</td>\n",
       "      <td>-0.046301</td>\n",
       "      <td>-0.028411</td>\n",
       "      <td>-0.004132</td>\n",
       "    </tr>\n",
       "    <tr>\n",
       "      <th>Age</th>\n",
       "      <td>-0.106439</td>\n",
       "      <td>1.000000</td>\n",
       "      <td>-0.092469</td>\n",
       "      <td>0.504599</td>\n",
       "      <td>0.292398</td>\n",
       "      <td>0.095811</td>\n",
       "      <td>0.083827</td>\n",
       "      <td>0.012629</td>\n",
       "      <td>0.034813</td>\n",
       "      <td>-0.060320</td>\n",
       "    </tr>\n",
       "    <tr>\n",
       "      <th>Scholarship</th>\n",
       "      <td>-0.114297</td>\n",
       "      <td>-0.092469</td>\n",
       "      <td>1.000000</td>\n",
       "      <td>-0.019738</td>\n",
       "      <td>-0.024899</td>\n",
       "      <td>0.035019</td>\n",
       "      <td>-0.009068</td>\n",
       "      <td>0.001182</td>\n",
       "      <td>-0.030435</td>\n",
       "      <td>0.029166</td>\n",
       "    </tr>\n",
       "    <tr>\n",
       "      <th>Hypertension</th>\n",
       "      <td>-0.055721</td>\n",
       "      <td>0.504599</td>\n",
       "      <td>-0.019738</td>\n",
       "      <td>1.000000</td>\n",
       "      <td>0.433082</td>\n",
       "      <td>0.087967</td>\n",
       "      <td>0.084949</td>\n",
       "      <td>-0.006285</td>\n",
       "      <td>-0.017236</td>\n",
       "      <td>-0.035662</td>\n",
       "    </tr>\n",
       "    <tr>\n",
       "      <th>Diabetes</th>\n",
       "      <td>-0.032555</td>\n",
       "      <td>0.292398</td>\n",
       "      <td>-0.024899</td>\n",
       "      <td>0.433082</td>\n",
       "      <td>1.000000</td>\n",
       "      <td>0.018471</td>\n",
       "      <td>0.059204</td>\n",
       "      <td>-0.014561</td>\n",
       "      <td>-0.027200</td>\n",
       "      <td>-0.015158</td>\n",
       "    </tr>\n",
       "    <tr>\n",
       "      <th>Alcoholism</th>\n",
       "      <td>0.106170</td>\n",
       "      <td>0.095811</td>\n",
       "      <td>0.035019</td>\n",
       "      <td>0.087967</td>\n",
       "      <td>0.018471</td>\n",
       "      <td>1.000000</td>\n",
       "      <td>0.003715</td>\n",
       "      <td>-0.026154</td>\n",
       "      <td>-0.038527</td>\n",
       "      <td>-0.000181</td>\n",
       "    </tr>\n",
       "    <tr>\n",
       "      <th>Handicap</th>\n",
       "      <td>0.022391</td>\n",
       "      <td>0.083827</td>\n",
       "      <td>-0.009068</td>\n",
       "      <td>0.084949</td>\n",
       "      <td>0.059204</td>\n",
       "      <td>0.003715</td>\n",
       "      <td>1.000000</td>\n",
       "      <td>-0.025148</td>\n",
       "      <td>-0.020885</td>\n",
       "      <td>-0.007528</td>\n",
       "    </tr>\n",
       "    <tr>\n",
       "      <th>SMSReceived</th>\n",
       "      <td>-0.046301</td>\n",
       "      <td>0.012629</td>\n",
       "      <td>0.001182</td>\n",
       "      <td>-0.006285</td>\n",
       "      <td>-0.014561</td>\n",
       "      <td>-0.026154</td>\n",
       "      <td>-0.025148</td>\n",
       "      <td>1.000000</td>\n",
       "      <td>0.398128</td>\n",
       "      <td>0.126502</td>\n",
       "    </tr>\n",
       "    <tr>\n",
       "      <th>WaitingDays</th>\n",
       "      <td>-0.028411</td>\n",
       "      <td>0.034813</td>\n",
       "      <td>-0.030435</td>\n",
       "      <td>-0.017236</td>\n",
       "      <td>-0.027200</td>\n",
       "      <td>-0.038527</td>\n",
       "      <td>-0.020885</td>\n",
       "      <td>0.398128</td>\n",
       "      <td>1.000000</td>\n",
       "      <td>0.186320</td>\n",
       "    </tr>\n",
       "    <tr>\n",
       "      <th>NoShow</th>\n",
       "      <td>-0.004132</td>\n",
       "      <td>-0.060320</td>\n",
       "      <td>0.029166</td>\n",
       "      <td>-0.035662</td>\n",
       "      <td>-0.015158</td>\n",
       "      <td>-0.000181</td>\n",
       "      <td>-0.007528</td>\n",
       "      <td>0.126502</td>\n",
       "      <td>0.186320</td>\n",
       "      <td>1.000000</td>\n",
       "    </tr>\n",
       "  </tbody>\n",
       "</table>\n",
       "</div>"
      ],
      "text/plain": [
       "                Gender       Age  Scholarship  Hypertension  Diabetes  \\\n",
       "Gender        1.000000 -0.106439    -0.114297     -0.055721 -0.032555   \n",
       "Age          -0.106439  1.000000    -0.092469      0.504599  0.292398   \n",
       "Scholarship  -0.114297 -0.092469     1.000000     -0.019738 -0.024899   \n",
       "Hypertension -0.055721  0.504599    -0.019738      1.000000  0.433082   \n",
       "Diabetes     -0.032555  0.292398    -0.024899      0.433082  1.000000   \n",
       "Alcoholism    0.106170  0.095811     0.035019      0.087967  0.018471   \n",
       "Handicap      0.022391  0.083827    -0.009068      0.084949  0.059204   \n",
       "SMSReceived  -0.046301  0.012629     0.001182     -0.006285 -0.014561   \n",
       "WaitingDays  -0.028411  0.034813    -0.030435     -0.017236 -0.027200   \n",
       "NoShow       -0.004132 -0.060320     0.029166     -0.035662 -0.015158   \n",
       "\n",
       "              Alcoholism  Handicap  SMSReceived  WaitingDays    NoShow  \n",
       "Gender          0.106170  0.022391    -0.046301    -0.028411 -0.004132  \n",
       "Age             0.095811  0.083827     0.012629     0.034813 -0.060320  \n",
       "Scholarship     0.035019 -0.009068     0.001182    -0.030435  0.029166  \n",
       "Hypertension    0.087967  0.084949    -0.006285    -0.017236 -0.035662  \n",
       "Diabetes        0.018471  0.059204    -0.014561    -0.027200 -0.015158  \n",
       "Alcoholism      1.000000  0.003715    -0.026154    -0.038527 -0.000181  \n",
       "Handicap        0.003715  1.000000    -0.025148    -0.020885 -0.007528  \n",
       "SMSReceived    -0.026154 -0.025148     1.000000     0.398128  0.126502  \n",
       "WaitingDays    -0.038527 -0.020885     0.398128     1.000000  0.186320  \n",
       "NoShow         -0.000181 -0.007528     0.126502     0.186320  1.000000  "
      ]
     },
     "execution_count": 64,
     "metadata": {},
     "output_type": "execute_result"
    }
   ],
   "source": [
    "#Correlation matrix to measure the degree of relationship between the variables and the Target(NoShow) variable.\n",
    "corr=df_2.corr()\n",
    "corr"
   ]
  },
  {
   "cell_type": "code",
   "execution_count": 69,
   "metadata": {},
   "outputs": [
    {
     "data": {
      "text/html": [
       "<style type=\"text/css\">\n",
       "#T_ad277_row0_col0, #T_ad277_row1_col1, #T_ad277_row2_col2, #T_ad277_row3_col3, #T_ad277_row4_col4, #T_ad277_row5_col5, #T_ad277_row6_col6, #T_ad277_row7_col7, #T_ad277_row8_col8, #T_ad277_row9_col9 {\n",
       "  background-color: #b40426;\n",
       "  color: #f1f1f1;\n",
       "}\n",
       "#T_ad277_row0_col1, #T_ad277_row0_col2, #T_ad277_row0_col3, #T_ad277_row0_col4, #T_ad277_row0_col7, #T_ad277_row1_col9, #T_ad277_row2_col0, #T_ad277_row5_col8, #T_ad277_row7_col6, #T_ad277_row8_col5 {\n",
       "  background-color: #3b4cc0;\n",
       "  color: #f1f1f1;\n",
       "}\n",
       "#T_ad277_row0_col5 {\n",
       "  background-color: #6687ed;\n",
       "  color: #f1f1f1;\n",
       "}\n",
       "#T_ad277_row0_col6, #T_ad277_row2_col7, #T_ad277_row7_col3 {\n",
       "  background-color: #485fd1;\n",
       "  color: #f1f1f1;\n",
       "}\n",
       "#T_ad277_row0_col8, #T_ad277_row4_col8 {\n",
       "  background-color: #3d50c3;\n",
       "  color: #f1f1f1;\n",
       "}\n",
       "#T_ad277_row0_col9, #T_ad277_row3_col0 {\n",
       "  background-color: #4a63d3;\n",
       "  color: #f1f1f1;\n",
       "}\n",
       "#T_ad277_row1_col0, #T_ad277_row2_col4, #T_ad277_row2_col8, #T_ad277_row8_col4, #T_ad277_row8_col6 {\n",
       "  background-color: #3c4ec2;\n",
       "  color: #f1f1f1;\n",
       "}\n",
       "#T_ad277_row1_col2, #T_ad277_row3_col8, #T_ad277_row3_col9, #T_ad277_row6_col7 {\n",
       "  background-color: #4055c8;\n",
       "  color: #f1f1f1;\n",
       "}\n",
       "#T_ad277_row1_col3 {\n",
       "  background-color: #e4d9d2;\n",
       "  color: #000000;\n",
       "}\n",
       "#T_ad277_row1_col4 {\n",
       "  background-color: #a3c2fe;\n",
       "  color: #000000;\n",
       "}\n",
       "#T_ad277_row1_col5 {\n",
       "  background-color: #6384eb;\n",
       "  color: #f1f1f1;\n",
       "}\n",
       "#T_ad277_row1_col6, #T_ad277_row3_col6, #T_ad277_row7_col1 {\n",
       "  background-color: #5b7ae5;\n",
       "  color: #f1f1f1;\n",
       "}\n",
       "#T_ad277_row1_col7, #T_ad277_row4_col5, #T_ad277_row5_col9 {\n",
       "  background-color: #4b64d5;\n",
       "  color: #f1f1f1;\n",
       "}\n",
       "#T_ad277_row1_col8, #T_ad277_row2_col5, #T_ad277_row4_col0 {\n",
       "  background-color: #506bda;\n",
       "  color: #f1f1f1;\n",
       "}\n",
       "#T_ad277_row2_col1, #T_ad277_row7_col5 {\n",
       "  background-color: #3e51c5;\n",
       "  color: #f1f1f1;\n",
       "}\n",
       "#T_ad277_row2_col3 {\n",
       "  background-color: #445acc;\n",
       "  color: #f1f1f1;\n",
       "}\n",
       "#T_ad277_row2_col6, #T_ad277_row5_col7, #T_ad277_row6_col8, #T_ad277_row7_col4, #T_ad277_row9_col3, #T_ad277_row9_col4, #T_ad277_row9_col6 {\n",
       "  background-color: #3f53c6;\n",
       "  color: #f1f1f1;\n",
       "}\n",
       "#T_ad277_row2_col9, #T_ad277_row3_col2, #T_ad277_row4_col6 {\n",
       "  background-color: #5470de;\n",
       "  color: #f1f1f1;\n",
       "}\n",
       "#T_ad277_row3_col1 {\n",
       "  background-color: #ead5c9;\n",
       "  color: #000000;\n",
       "}\n",
       "#T_ad277_row3_col4 {\n",
       "  background-color: #cfdaea;\n",
       "  color: #000000;\n",
       "}\n",
       "#T_ad277_row3_col5, #T_ad277_row6_col0 {\n",
       "  background-color: #6180e9;\n",
       "  color: #f1f1f1;\n",
       "}\n",
       "#T_ad277_row3_col7, #T_ad277_row8_col3, #T_ad277_row9_col5 {\n",
       "  background-color: #455cce;\n",
       "  color: #f1f1f1;\n",
       "}\n",
       "#T_ad277_row4_col1 {\n",
       "  background-color: #b3cdfb;\n",
       "  color: #000000;\n",
       "}\n",
       "#T_ad277_row4_col2 {\n",
       "  background-color: #536edd;\n",
       "  color: #f1f1f1;\n",
       "}\n",
       "#T_ad277_row4_col3 {\n",
       "  background-color: #d3dbe7;\n",
       "  color: #000000;\n",
       "}\n",
       "#T_ad277_row4_col7, #T_ad277_row5_col6 {\n",
       "  background-color: #4358cb;\n",
       "  color: #f1f1f1;\n",
       "}\n",
       "#T_ad277_row4_col9, #T_ad277_row6_col5, #T_ad277_row9_col1 {\n",
       "  background-color: #465ecf;\n",
       "  color: #f1f1f1;\n",
       "}\n",
       "#T_ad277_row5_col0 {\n",
       "  background-color: #7a9df8;\n",
       "  color: #f1f1f1;\n",
       "}\n",
       "#T_ad277_row5_col1 {\n",
       "  background-color: #7597f6;\n",
       "  color: #f1f1f1;\n",
       "}\n",
       "#T_ad277_row5_col2, #T_ad277_row5_col3, #T_ad277_row6_col3 {\n",
       "  background-color: #6485ec;\n",
       "  color: #f1f1f1;\n",
       "}\n",
       "#T_ad277_row5_col4, #T_ad277_row6_col9 {\n",
       "  background-color: #4961d2;\n",
       "  color: #f1f1f1;\n",
       "}\n",
       "#T_ad277_row6_col1 {\n",
       "  background-color: #7295f4;\n",
       "  color: #f1f1f1;\n",
       "}\n",
       "#T_ad277_row6_col2 {\n",
       "  background-color: #5875e1;\n",
       "  color: #f1f1f1;\n",
       "}\n",
       "#T_ad277_row6_col4 {\n",
       "  background-color: #5572df;\n",
       "  color: #f1f1f1;\n",
       "}\n",
       "#T_ad277_row7_col0 {\n",
       "  background-color: #4c66d6;\n",
       "  color: #f1f1f1;\n",
       "}\n",
       "#T_ad277_row7_col2 {\n",
       "  background-color: #5a78e4;\n",
       "  color: #f1f1f1;\n",
       "}\n",
       "#T_ad277_row7_col8 {\n",
       "  background-color: #c6d6f1;\n",
       "  color: #000000;\n",
       "}\n",
       "#T_ad277_row7_col9 {\n",
       "  background-color: #7396f5;\n",
       "  color: #f1f1f1;\n",
       "}\n",
       "#T_ad277_row8_col0, #T_ad277_row8_col2 {\n",
       "  background-color: #516ddb;\n",
       "  color: #f1f1f1;\n",
       "}\n",
       "#T_ad277_row8_col1, #T_ad277_row9_col2 {\n",
       "  background-color: #6282ea;\n",
       "  color: #f1f1f1;\n",
       "}\n",
       "#T_ad277_row8_col7 {\n",
       "  background-color: #c7d7f0;\n",
       "  color: #000000;\n",
       "}\n",
       "#T_ad277_row8_col9 {\n",
       "  background-color: #86a9fc;\n",
       "  color: #f1f1f1;\n",
       "}\n",
       "#T_ad277_row9_col0 {\n",
       "  background-color: #5977e3;\n",
       "  color: #f1f1f1;\n",
       "}\n",
       "#T_ad277_row9_col7 {\n",
       "  background-color: #6f92f3;\n",
       "  color: #f1f1f1;\n",
       "}\n",
       "#T_ad277_row9_col8 {\n",
       "  background-color: #81a4fb;\n",
       "  color: #f1f1f1;\n",
       "}\n",
       "</style>\n",
       "<table id=\"T_ad277\">\n",
       "  <thead>\n",
       "    <tr>\n",
       "      <th class=\"blank level0\" >&nbsp;</th>\n",
       "      <th id=\"T_ad277_level0_col0\" class=\"col_heading level0 col0\" >Gender</th>\n",
       "      <th id=\"T_ad277_level0_col1\" class=\"col_heading level0 col1\" >Age</th>\n",
       "      <th id=\"T_ad277_level0_col2\" class=\"col_heading level0 col2\" >Scholarship</th>\n",
       "      <th id=\"T_ad277_level0_col3\" class=\"col_heading level0 col3\" >Hypertension</th>\n",
       "      <th id=\"T_ad277_level0_col4\" class=\"col_heading level0 col4\" >Diabetes</th>\n",
       "      <th id=\"T_ad277_level0_col5\" class=\"col_heading level0 col5\" >Alcoholism</th>\n",
       "      <th id=\"T_ad277_level0_col6\" class=\"col_heading level0 col6\" >Handicap</th>\n",
       "      <th id=\"T_ad277_level0_col7\" class=\"col_heading level0 col7\" >SMSReceived</th>\n",
       "      <th id=\"T_ad277_level0_col8\" class=\"col_heading level0 col8\" >WaitingDays</th>\n",
       "      <th id=\"T_ad277_level0_col9\" class=\"col_heading level0 col9\" >NoShow</th>\n",
       "    </tr>\n",
       "  </thead>\n",
       "  <tbody>\n",
       "    <tr>\n",
       "      <th id=\"T_ad277_level0_row0\" class=\"row_heading level0 row0\" >Gender</th>\n",
       "      <td id=\"T_ad277_row0_col0\" class=\"data row0 col0\" >1.000000</td>\n",
       "      <td id=\"T_ad277_row0_col1\" class=\"data row0 col1\" >-0.106439</td>\n",
       "      <td id=\"T_ad277_row0_col2\" class=\"data row0 col2\" >-0.114297</td>\n",
       "      <td id=\"T_ad277_row0_col3\" class=\"data row0 col3\" >-0.055721</td>\n",
       "      <td id=\"T_ad277_row0_col4\" class=\"data row0 col4\" >-0.032555</td>\n",
       "      <td id=\"T_ad277_row0_col5\" class=\"data row0 col5\" >0.106170</td>\n",
       "      <td id=\"T_ad277_row0_col6\" class=\"data row0 col6\" >0.022391</td>\n",
       "      <td id=\"T_ad277_row0_col7\" class=\"data row0 col7\" >-0.046301</td>\n",
       "      <td id=\"T_ad277_row0_col8\" class=\"data row0 col8\" >-0.028411</td>\n",
       "      <td id=\"T_ad277_row0_col9\" class=\"data row0 col9\" >-0.004132</td>\n",
       "    </tr>\n",
       "    <tr>\n",
       "      <th id=\"T_ad277_level0_row1\" class=\"row_heading level0 row1\" >Age</th>\n",
       "      <td id=\"T_ad277_row1_col0\" class=\"data row1 col0\" >-0.106439</td>\n",
       "      <td id=\"T_ad277_row1_col1\" class=\"data row1 col1\" >1.000000</td>\n",
       "      <td id=\"T_ad277_row1_col2\" class=\"data row1 col2\" >-0.092469</td>\n",
       "      <td id=\"T_ad277_row1_col3\" class=\"data row1 col3\" >0.504599</td>\n",
       "      <td id=\"T_ad277_row1_col4\" class=\"data row1 col4\" >0.292398</td>\n",
       "      <td id=\"T_ad277_row1_col5\" class=\"data row1 col5\" >0.095811</td>\n",
       "      <td id=\"T_ad277_row1_col6\" class=\"data row1 col6\" >0.083827</td>\n",
       "      <td id=\"T_ad277_row1_col7\" class=\"data row1 col7\" >0.012629</td>\n",
       "      <td id=\"T_ad277_row1_col8\" class=\"data row1 col8\" >0.034813</td>\n",
       "      <td id=\"T_ad277_row1_col9\" class=\"data row1 col9\" >-0.060320</td>\n",
       "    </tr>\n",
       "    <tr>\n",
       "      <th id=\"T_ad277_level0_row2\" class=\"row_heading level0 row2\" >Scholarship</th>\n",
       "      <td id=\"T_ad277_row2_col0\" class=\"data row2 col0\" >-0.114297</td>\n",
       "      <td id=\"T_ad277_row2_col1\" class=\"data row2 col1\" >-0.092469</td>\n",
       "      <td id=\"T_ad277_row2_col2\" class=\"data row2 col2\" >1.000000</td>\n",
       "      <td id=\"T_ad277_row2_col3\" class=\"data row2 col3\" >-0.019738</td>\n",
       "      <td id=\"T_ad277_row2_col4\" class=\"data row2 col4\" >-0.024899</td>\n",
       "      <td id=\"T_ad277_row2_col5\" class=\"data row2 col5\" >0.035019</td>\n",
       "      <td id=\"T_ad277_row2_col6\" class=\"data row2 col6\" >-0.009068</td>\n",
       "      <td id=\"T_ad277_row2_col7\" class=\"data row2 col7\" >0.001182</td>\n",
       "      <td id=\"T_ad277_row2_col8\" class=\"data row2 col8\" >-0.030435</td>\n",
       "      <td id=\"T_ad277_row2_col9\" class=\"data row2 col9\" >0.029166</td>\n",
       "    </tr>\n",
       "    <tr>\n",
       "      <th id=\"T_ad277_level0_row3\" class=\"row_heading level0 row3\" >Hypertension</th>\n",
       "      <td id=\"T_ad277_row3_col0\" class=\"data row3 col0\" >-0.055721</td>\n",
       "      <td id=\"T_ad277_row3_col1\" class=\"data row3 col1\" >0.504599</td>\n",
       "      <td id=\"T_ad277_row3_col2\" class=\"data row3 col2\" >-0.019738</td>\n",
       "      <td id=\"T_ad277_row3_col3\" class=\"data row3 col3\" >1.000000</td>\n",
       "      <td id=\"T_ad277_row3_col4\" class=\"data row3 col4\" >0.433082</td>\n",
       "      <td id=\"T_ad277_row3_col5\" class=\"data row3 col5\" >0.087967</td>\n",
       "      <td id=\"T_ad277_row3_col6\" class=\"data row3 col6\" >0.084949</td>\n",
       "      <td id=\"T_ad277_row3_col7\" class=\"data row3 col7\" >-0.006285</td>\n",
       "      <td id=\"T_ad277_row3_col8\" class=\"data row3 col8\" >-0.017236</td>\n",
       "      <td id=\"T_ad277_row3_col9\" class=\"data row3 col9\" >-0.035662</td>\n",
       "    </tr>\n",
       "    <tr>\n",
       "      <th id=\"T_ad277_level0_row4\" class=\"row_heading level0 row4\" >Diabetes</th>\n",
       "      <td id=\"T_ad277_row4_col0\" class=\"data row4 col0\" >-0.032555</td>\n",
       "      <td id=\"T_ad277_row4_col1\" class=\"data row4 col1\" >0.292398</td>\n",
       "      <td id=\"T_ad277_row4_col2\" class=\"data row4 col2\" >-0.024899</td>\n",
       "      <td id=\"T_ad277_row4_col3\" class=\"data row4 col3\" >0.433082</td>\n",
       "      <td id=\"T_ad277_row4_col4\" class=\"data row4 col4\" >1.000000</td>\n",
       "      <td id=\"T_ad277_row4_col5\" class=\"data row4 col5\" >0.018471</td>\n",
       "      <td id=\"T_ad277_row4_col6\" class=\"data row4 col6\" >0.059204</td>\n",
       "      <td id=\"T_ad277_row4_col7\" class=\"data row4 col7\" >-0.014561</td>\n",
       "      <td id=\"T_ad277_row4_col8\" class=\"data row4 col8\" >-0.027200</td>\n",
       "      <td id=\"T_ad277_row4_col9\" class=\"data row4 col9\" >-0.015158</td>\n",
       "    </tr>\n",
       "    <tr>\n",
       "      <th id=\"T_ad277_level0_row5\" class=\"row_heading level0 row5\" >Alcoholism</th>\n",
       "      <td id=\"T_ad277_row5_col0\" class=\"data row5 col0\" >0.106170</td>\n",
       "      <td id=\"T_ad277_row5_col1\" class=\"data row5 col1\" >0.095811</td>\n",
       "      <td id=\"T_ad277_row5_col2\" class=\"data row5 col2\" >0.035019</td>\n",
       "      <td id=\"T_ad277_row5_col3\" class=\"data row5 col3\" >0.087967</td>\n",
       "      <td id=\"T_ad277_row5_col4\" class=\"data row5 col4\" >0.018471</td>\n",
       "      <td id=\"T_ad277_row5_col5\" class=\"data row5 col5\" >1.000000</td>\n",
       "      <td id=\"T_ad277_row5_col6\" class=\"data row5 col6\" >0.003715</td>\n",
       "      <td id=\"T_ad277_row5_col7\" class=\"data row5 col7\" >-0.026154</td>\n",
       "      <td id=\"T_ad277_row5_col8\" class=\"data row5 col8\" >-0.038527</td>\n",
       "      <td id=\"T_ad277_row5_col9\" class=\"data row5 col9\" >-0.000181</td>\n",
       "    </tr>\n",
       "    <tr>\n",
       "      <th id=\"T_ad277_level0_row6\" class=\"row_heading level0 row6\" >Handicap</th>\n",
       "      <td id=\"T_ad277_row6_col0\" class=\"data row6 col0\" >0.022391</td>\n",
       "      <td id=\"T_ad277_row6_col1\" class=\"data row6 col1\" >0.083827</td>\n",
       "      <td id=\"T_ad277_row6_col2\" class=\"data row6 col2\" >-0.009068</td>\n",
       "      <td id=\"T_ad277_row6_col3\" class=\"data row6 col3\" >0.084949</td>\n",
       "      <td id=\"T_ad277_row6_col4\" class=\"data row6 col4\" >0.059204</td>\n",
       "      <td id=\"T_ad277_row6_col5\" class=\"data row6 col5\" >0.003715</td>\n",
       "      <td id=\"T_ad277_row6_col6\" class=\"data row6 col6\" >1.000000</td>\n",
       "      <td id=\"T_ad277_row6_col7\" class=\"data row6 col7\" >-0.025148</td>\n",
       "      <td id=\"T_ad277_row6_col8\" class=\"data row6 col8\" >-0.020885</td>\n",
       "      <td id=\"T_ad277_row6_col9\" class=\"data row6 col9\" >-0.007528</td>\n",
       "    </tr>\n",
       "    <tr>\n",
       "      <th id=\"T_ad277_level0_row7\" class=\"row_heading level0 row7\" >SMSReceived</th>\n",
       "      <td id=\"T_ad277_row7_col0\" class=\"data row7 col0\" >-0.046301</td>\n",
       "      <td id=\"T_ad277_row7_col1\" class=\"data row7 col1\" >0.012629</td>\n",
       "      <td id=\"T_ad277_row7_col2\" class=\"data row7 col2\" >0.001182</td>\n",
       "      <td id=\"T_ad277_row7_col3\" class=\"data row7 col3\" >-0.006285</td>\n",
       "      <td id=\"T_ad277_row7_col4\" class=\"data row7 col4\" >-0.014561</td>\n",
       "      <td id=\"T_ad277_row7_col5\" class=\"data row7 col5\" >-0.026154</td>\n",
       "      <td id=\"T_ad277_row7_col6\" class=\"data row7 col6\" >-0.025148</td>\n",
       "      <td id=\"T_ad277_row7_col7\" class=\"data row7 col7\" >1.000000</td>\n",
       "      <td id=\"T_ad277_row7_col8\" class=\"data row7 col8\" >0.398128</td>\n",
       "      <td id=\"T_ad277_row7_col9\" class=\"data row7 col9\" >0.126502</td>\n",
       "    </tr>\n",
       "    <tr>\n",
       "      <th id=\"T_ad277_level0_row8\" class=\"row_heading level0 row8\" >WaitingDays</th>\n",
       "      <td id=\"T_ad277_row8_col0\" class=\"data row8 col0\" >-0.028411</td>\n",
       "      <td id=\"T_ad277_row8_col1\" class=\"data row8 col1\" >0.034813</td>\n",
       "      <td id=\"T_ad277_row8_col2\" class=\"data row8 col2\" >-0.030435</td>\n",
       "      <td id=\"T_ad277_row8_col3\" class=\"data row8 col3\" >-0.017236</td>\n",
       "      <td id=\"T_ad277_row8_col4\" class=\"data row8 col4\" >-0.027200</td>\n",
       "      <td id=\"T_ad277_row8_col5\" class=\"data row8 col5\" >-0.038527</td>\n",
       "      <td id=\"T_ad277_row8_col6\" class=\"data row8 col6\" >-0.020885</td>\n",
       "      <td id=\"T_ad277_row8_col7\" class=\"data row8 col7\" >0.398128</td>\n",
       "      <td id=\"T_ad277_row8_col8\" class=\"data row8 col8\" >1.000000</td>\n",
       "      <td id=\"T_ad277_row8_col9\" class=\"data row8 col9\" >0.186320</td>\n",
       "    </tr>\n",
       "    <tr>\n",
       "      <th id=\"T_ad277_level0_row9\" class=\"row_heading level0 row9\" >NoShow</th>\n",
       "      <td id=\"T_ad277_row9_col0\" class=\"data row9 col0\" >-0.004132</td>\n",
       "      <td id=\"T_ad277_row9_col1\" class=\"data row9 col1\" >-0.060320</td>\n",
       "      <td id=\"T_ad277_row9_col2\" class=\"data row9 col2\" >0.029166</td>\n",
       "      <td id=\"T_ad277_row9_col3\" class=\"data row9 col3\" >-0.035662</td>\n",
       "      <td id=\"T_ad277_row9_col4\" class=\"data row9 col4\" >-0.015158</td>\n",
       "      <td id=\"T_ad277_row9_col5\" class=\"data row9 col5\" >-0.000181</td>\n",
       "      <td id=\"T_ad277_row9_col6\" class=\"data row9 col6\" >-0.007528</td>\n",
       "      <td id=\"T_ad277_row9_col7\" class=\"data row9 col7\" >0.126502</td>\n",
       "      <td id=\"T_ad277_row9_col8\" class=\"data row9 col8\" >0.186320</td>\n",
       "      <td id=\"T_ad277_row9_col9\" class=\"data row9 col9\" >1.000000</td>\n",
       "    </tr>\n",
       "  </tbody>\n",
       "</table>\n"
      ],
      "text/plain": [
       "<pandas.io.formats.style.Styler at 0x15187b370>"
      ]
     },
     "execution_count": 69,
     "metadata": {},
     "output_type": "execute_result"
    }
   ],
   "source": [
    "# Correlation matrix visualiztion\n",
    "corr.style.background_gradient(cmap='coolwarm')"
   ]
  },
  {
   "cell_type": "markdown",
   "metadata": {},
   "source": [
    "From the correlation plot, we can observe that only the variables \"SMSRecieved\" and \"WaitingDays\" have a significance relationship to the \"NoShow\" variable. "
   ]
  },
  {
   "cell_type": "markdown",
   "metadata": {},
   "source": [
    "<a id='conclusions'></a>\n",
    "## Conclusions"
   ]
  },
  {
   "cell_type": "markdown",
   "metadata": {
    "tags": []
   },
   "source": [
    "<li>PatientId and AppointmentID has no effect on Show/No Show of the patient. So it can be drop in the futher analysis\n",
    "\n",
    "<li> Gender is not significant variable for the probability of Show/No Show.\n",
    "\n",
    "<li>Neighbourhood Variable is not significant for the probabilty of Show/No Show. Since its just the name of the patients.\n",
    "\n",
    "<li> Scholarship is important factor in predicting if a patient will show up for their scheduled appointment or not.\n",
    "Not getting Scholarship increases the probability of attending the appointment.\n",
    "\n",
    "<li>The probabitity of attending appointment increases when patient have Hipertension.\n",
    "\n",
    "<li>The probabitity of attending appointments increases when the patient have Diabetes.\n",
    "\n",
    "<li>The Alcoholism variable is significant for the probabilty of Show/No Show.\n",
    "\n",
    "<li> The probability of attending appointment decreases when patient have Handcap condition.\n",
    "<li> SMS_Received Variable is not significant for the probabilty of Show/No Show."
   ]
  },
  {
   "cell_type": "markdown",
   "metadata": {},
   "source": [
    "<a id='limitations'></a>\n",
    "## Limitation\n",
    "\n",
    "<li>During the data set analysis some limitations where found and need to be addressed for better prediction of the probability for No-Show.\n",
    "\n",
    "<li>The data set didn't tell us the distance between the patient homes and the hospitals or the hospitals capacities.\n",
    "\n",
    "<li>Some data was dropped from the data due to their unrealistic nature such as Negative Age and Appointment Date prior to schedule Date."
   ]
  },
  {
   "cell_type": "markdown",
   "metadata": {},
   "source": [
    "## References\n",
    "\n"
   ]
  },
  {
   "cell_type": "markdown",
   "metadata": {},
   "source": [
    "https://www.kaggle.com/datasets/joniarroba/noshowappointments"
   ]
  },
  {
   "cell_type": "markdown",
   "metadata": {},
   "source": [
    "<style> p{color : red}</style>"
   ]
  },
  {
   "cell_type": "markdown",
   "metadata": {},
   "source": [
    "<p> dddd</p>"
   ]
  },
  {
   "cell_type": "code",
   "execution_count": null,
   "metadata": {},
   "outputs": [],
   "source": []
  }
 ],
 "metadata": {
  "kernelspec": {
   "display_name": "Python 3 (ipykernel)",
   "language": "python",
   "name": "python3"
  },
  "language_info": {
   "codemirror_mode": {
    "name": "ipython",
    "version": 3
   },
   "file_extension": ".py",
   "mimetype": "text/x-python",
   "name": "python",
   "nbconvert_exporter": "python",
   "pygments_lexer": "ipython3",
   "version": "3.10.4"
  }
 },
 "nbformat": 4,
 "nbformat_minor": 4
}
